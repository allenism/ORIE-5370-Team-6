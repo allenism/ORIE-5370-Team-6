{
 "cells": [
  {
   "cell_type": "code",
   "execution_count": 119,
   "id": "a0c6c1c7",
   "metadata": {},
   "outputs": [],
   "source": [
    "import numpy as np\n",
    "import pandas as pd\n",
    "import yfinance as yf\n",
    "import talib\n",
    "from matplotlib import pyplot as plt"
   ]
  },
  {
   "cell_type": "code",
   "execution_count": 54,
   "id": "21f86291",
   "metadata": {},
   "outputs": [
    {
     "name": "stdout",
     "output_type": "stream",
     "text": [
      "3.9.7\n"
     ]
    }
   ],
   "source": [
    "from platform import python_version\n",
    "\n",
    "print(python_version())"
   ]
  },
  {
   "cell_type": "code",
   "execution_count": 3,
   "id": "c9082ac5",
   "metadata": {
    "collapsed": true
   },
   "outputs": [
    {
     "name": "stdout",
     "output_type": "stream",
     "text": [
      "Collecting yfinance\n",
      "  Downloading yfinance-0.1.70-py2.py3-none-any.whl (26 kB)\n",
      "Requirement already satisfied: numpy>=1.15 in c:\\users\\xyyh\\anaconda3\\envs\\bda22\\lib\\site-packages (from yfinance) (1.20.3)\n",
      "Requirement already satisfied: pandas>=0.24.0 in c:\\users\\xyyh\\anaconda3\\envs\\bda22\\lib\\site-packages (from yfinance) (1.3.5)\n",
      "Requirement already satisfied: lxml>=4.5.1 in c:\\users\\xyyh\\anaconda3\\envs\\bda22\\lib\\site-packages (from yfinance) (4.7.1)\n",
      "Collecting multitasking>=0.0.7\n",
      "  Downloading multitasking-0.0.10.tar.gz (8.2 kB)\n",
      "Requirement already satisfied: requests>=2.26 in c:\\users\\xyyh\\anaconda3\\envs\\bda22\\lib\\site-packages (from yfinance) (2.27.1)\n",
      "Requirement already satisfied: python-dateutil>=2.7.3 in c:\\users\\xyyh\\anaconda3\\envs\\bda22\\lib\\site-packages (from pandas>=0.24.0->yfinance) (2.8.2)\n",
      "Requirement already satisfied: pytz>=2017.3 in c:\\users\\xyyh\\anaconda3\\envs\\bda22\\lib\\site-packages (from pandas>=0.24.0->yfinance) (2021.3)\n",
      "Requirement already satisfied: six>=1.5 in c:\\users\\xyyh\\anaconda3\\envs\\bda22\\lib\\site-packages (from python-dateutil>=2.7.3->pandas>=0.24.0->yfinance) (1.16.0)\n",
      "Requirement already satisfied: certifi>=2017.4.17 in c:\\users\\xyyh\\anaconda3\\envs\\bda22\\lib\\site-packages (from requests>=2.26->yfinance) (2021.10.8)\n",
      "Requirement already satisfied: urllib3<1.27,>=1.21.1 in c:\\users\\xyyh\\anaconda3\\envs\\bda22\\lib\\site-packages (from requests>=2.26->yfinance) (1.26.8)\n",
      "Requirement already satisfied: idna<4,>=2.5 in c:\\users\\xyyh\\anaconda3\\envs\\bda22\\lib\\site-packages (from requests>=2.26->yfinance) (3.3)\n",
      "Requirement already satisfied: charset-normalizer~=2.0.0 in c:\\users\\xyyh\\anaconda3\\envs\\bda22\\lib\\site-packages (from requests>=2.26->yfinance) (2.0.4)\n",
      "Building wheels for collected packages: multitasking\n",
      "  Building wheel for multitasking (setup.py): started\n",
      "  Building wheel for multitasking (setup.py): finished with status 'done'\n",
      "  Created wheel for multitasking: filename=multitasking-0.0.10-py3-none-any.whl size=8500 sha256=308eaccd7b6422cbe74c462f905d1bc26e4c72e96b25b86628b1cbe48e2e4494\n",
      "  Stored in directory: c:\\users\\xyyh\\appdata\\local\\pip\\cache\\wheels\\f2\\b5\\2c\\59ba95dcf854e542944c75fe3da584e4e3833b319735a0546c\n",
      "Successfully built multitasking\n",
      "Installing collected packages: multitasking, yfinance\n",
      "Successfully installed multitasking-0.0.10 yfinance-0.1.70\n"
     ]
    }
   ],
   "source": [
    "!pip install yfinance"
   ]
  },
  {
   "cell_type": "code",
   "execution_count": 106,
   "id": "800d8667",
   "metadata": {},
   "outputs": [],
   "source": [
    "all_tickers = pd.read_csv('all_tickers.csv').Symbol[:302].values[:]"
   ]
  },
  {
   "cell_type": "code",
   "execution_count": 107,
   "id": "f20a789c",
   "metadata": {},
   "outputs": [
    {
     "data": {
      "text/plain": [
       "array(['AAPL', 'MSFT', 'GOOG', 'GOOGL', 'AMZN', 'TSLA', 'BRK.B', 'NVDA',\n",
       "       'FB', 'UNH', 'JNJ', 'V', 'WMT', 'JPM', 'XOM', 'PG', 'CVX', 'HD',\n",
       "       'BAC', 'MA', 'PFE', 'ABBV', 'LLY', 'KO', 'DIS', 'AVGO', 'COST',\n",
       "       'CSCO', 'VZ', 'PEP', 'ORCL', 'TMO', 'ACN', 'CMCSA', 'ABT', 'ADBE',\n",
       "       'MRK', 'CRM', 'NKE', 'DHR', 'INTC', 'WFC', 'UPS', 'QCOM', 'MCD',\n",
       "       'UNP', 'T', 'TXN', 'TMUS', 'NEE', 'MS', 'SCHW', 'NFLX', 'BMY',\n",
       "       'LOW', 'RTX', 'LIN', 'MDT', 'PM', 'CVS', 'AMGN', 'COP', 'AXP',\n",
       "       'AMD', 'HON', 'INTU', 'DE', 'ANTM', 'LMT', 'CAT', 'PYPL', 'IBM',\n",
       "       'GS', 'PLD', 'AMAT', 'C', 'AMT', 'BLK', 'BA', 'NOW', 'GE', 'CHTR',\n",
       "       'ISRG', 'TGT', 'EL', 'SBUX', 'SYK', 'MO', 'SPGI', 'ZTS', 'ADP',\n",
       "       'CB', 'BKNG', 'MDLZ', 'DUK', 'MU', 'CME', 'HCA', 'MMM', 'USB',\n",
       "       'ADI', 'PNC', 'CSX', 'TFC', 'MMC', 'CCI', 'TJX', 'SO', 'CI', 'BDX',\n",
       "       'GILD', 'ICE', 'FCX', 'NOC', 'REGN', 'NSC', 'EOG', 'LRCX', 'D',\n",
       "       'AON', 'EW', 'GD', 'PSA', 'ITW', 'F', 'EQIX', 'WM', 'ATVI', 'FISV',\n",
       "       'CL', 'PGR', 'NEM', 'SHW', 'SLB', 'GM', 'VRTX', 'BSX', 'ETN',\n",
       "       'FDX', 'PXD', 'MCO', 'MRNA', 'COF', 'EMR', 'FIS', 'OXY', 'HUM',\n",
       "       'MET', 'MAR', 'SRE', 'KLAC', 'APD', 'CNC', 'LHX', 'AEP', 'ILMN',\n",
       "       'DG', 'AIG', 'ADM', 'NXPI', 'CTSH', 'KHC', 'ROP', 'ECL', 'SNPS',\n",
       "       'ORLY', 'FTNT', 'DOW', 'APH', 'MPC', 'PAYX', 'SPG', 'EXC', 'HSY',\n",
       "       'JCI', 'ADSK', 'MCK', 'IDXX', 'TRV', 'TEL', 'CMG', 'KR', 'KMI',\n",
       "       'WBA', 'WELL', 'IQV', 'BK', 'CDNS', 'RSG', 'STZ', 'SYY', 'PRU',\n",
       "       'KMB', 'HLT', 'A', 'CTVA', 'BKR', 'AFL', 'DVN', 'WMB', 'MNST', 'O',\n",
       "       'BAX', 'AZO', 'MCHP', 'CTAS', 'HPQ', 'DLR', 'XEL', 'DXCM', 'GIS',\n",
       "       'VLO', 'DD', 'MSI', 'MSCI', 'ANET', 'CARR', 'NUE', 'GPN', 'PSX',\n",
       "       'ODFL', 'PH', 'RMD', 'TT', 'SBAC', 'TDG', 'EA', 'ALL', 'LYB',\n",
       "       'AVB', 'HAL', 'YUM', 'DLTR', 'PEG', 'EQR', 'AJG', 'TSN', 'ED',\n",
       "       'ALGN', 'SIVB', 'FAST', 'ROST', 'GLW', 'TROW', 'OTIS', 'ABC',\n",
       "       'ARE', 'AMP', 'IFF', 'FITB', 'STT', 'MTD', 'ROK', 'DFS', 'PCAR',\n",
       "       'WEC', 'WY', 'OKE', 'EBAY', 'VRSK', 'HES', 'AME', 'BF.B', 'CBRE',\n",
       "       'BIIB', 'ES', 'APTV', 'DHI', 'PPG', 'LVS', 'CMI', 'FRC', 'AWK',\n",
       "       'HRL', 'BLL', 'CPRT', 'CERN', 'EFX', 'NDAQ', 'WST', 'EXPE', 'KEYS',\n",
       "       'TWTR', 'EXR', 'WTW', 'MKC', 'ANSS', 'TSCO', 'LEN', 'MTCH', 'FE',\n",
       "       'ZBH', 'LH', 'EIX', 'DTE', 'LYV', 'GWW', 'MAA', 'SWK', 'LUV',\n",
       "       'VTR', 'URI'], dtype=object)"
      ]
     },
     "execution_count": 107,
     "metadata": {},
     "output_type": "execute_result"
    }
   ],
   "source": [
    "all_tickers"
   ]
  },
  {
   "cell_type": "code",
   "execution_count": 97,
   "id": "f23ff1a8",
   "metadata": {},
   "outputs": [
    {
     "name": "stdout",
     "output_type": "stream",
     "text": [
      "- BRK.B: No data found, symbol may be delisted\n",
      "- BF.B: No data found for this date range, symbol may be delisted\n"
     ]
    }
   ],
   "source": [
    "#Collecting data from yahoo finance. Run only when collecting\n",
    "for ticker in all_tickers:\n",
    "    yf.Ticker(ticker).history(period='max').to_csv(r'C:\\Users\\xyyh\\Desktop\\Cornell\\ORIE 5370\\Project\\sp500_data\\{}.csv'.format(ticker))"
   ]
  },
  {
   "cell_type": "code",
   "execution_count": 108,
   "id": "ae826c18",
   "metadata": {},
   "outputs": [],
   "source": [
    "idx = np.in1d(all_tickers, ['BRK.B', 'BF.B'])\n",
    "all_tickers = all_tickers[~idx]"
   ]
  },
  {
   "cell_type": "code",
   "execution_count": 109,
   "id": "8db041d8",
   "metadata": {},
   "outputs": [
    {
     "name": "stdout",
     "output_type": "stream",
     "text": [
      "COF\n"
     ]
    }
   ],
   "source": [
    "spans = np.array([]).astype('int32')\n",
    "for ticker in all_tickers:\n",
    "    df = pd.read_csv(r'C:\\Users\\xyyh\\Desktop\\Cornell\\ORIE 5370\\Project\\sp500_data\\{}.csv'.format(ticker))\n",
    "    spans = np.append(spans, len(df.Date))\n",
    "all_tickers = all_tickers[np.argsort(spans)[-200:]]\n",
    "print(all_tickers[0])"
   ]
  },
  {
   "cell_type": "code",
   "execution_count": 111,
   "id": "a8deef9d",
   "metadata": {},
   "outputs": [
    {
     "data": {
      "text/plain": [
       "200"
      ]
     },
     "execution_count": 111,
     "metadata": {},
     "output_type": "execute_result"
    }
   ],
   "source": [
    "len(all_tickers)"
   ]
  },
  {
   "cell_type": "code",
   "execution_count": 112,
   "id": "8b78a2cc",
   "metadata": {},
   "outputs": [],
   "source": [
    "#checking if the dates stock with the shortest history meet the dates of all the other stocks\n",
    "    #filter with the shortest dates\n",
    "df_shortest = pd.read_csv(r'C:\\Users\\xyyh\\Desktop\\Cornell\\ORIE 5370\\Project\\sp500_data\\{}.csv'.format(all_tickers[0]))\n",
    "shortest_dates = df_shortest.Date.values[:-1]\n",
    "\n",
    "for ticker in all_tickers:\n",
    "    df = pd.read_csv(r'C:\\Users\\xyyh\\Desktop\\Cornell\\ORIE 5370\\Project\\sp500_data\\{}.csv'.format(str(ticker)))\n",
    "    df_dates = df.Date.values[:]\n",
    "    if set(shortest_dates).issubset(set(df_dates)) == False:\n",
    "        print(ticker)\n",
    "    else:\n",
    "        df_filtered = df.loc[df['Date'].isin(shortest_dates)]\n",
    "        df_filtered.to_csv(r'C:\\Users\\xyyh\\Desktop\\Cornell\\ORIE 5370\\Project\\sp500_data_filtered\\{}.csv'.format(str(ticker)),\n",
    "                          index=False)\n",
    "dates = df.Date.values[:]"
   ]
  },
  {
   "cell_type": "code",
   "execution_count": 113,
   "id": "2476334b",
   "metadata": {},
   "outputs": [
    {
     "data": {
      "text/html": [
       "<div>\n",
       "<style scoped>\n",
       "    .dataframe tbody tr th:only-of-type {\n",
       "        vertical-align: middle;\n",
       "    }\n",
       "\n",
       "    .dataframe tbody tr th {\n",
       "        vertical-align: top;\n",
       "    }\n",
       "\n",
       "    .dataframe thead th {\n",
       "        text-align: right;\n",
       "    }\n",
       "</style>\n",
       "<table border=\"1\" class=\"dataframe\">\n",
       "  <thead>\n",
       "    <tr style=\"text-align: right;\">\n",
       "      <th></th>\n",
       "      <th>Date</th>\n",
       "      <th>Open</th>\n",
       "      <th>High</th>\n",
       "      <th>Low</th>\n",
       "      <th>Close</th>\n",
       "      <th>Volume</th>\n",
       "      <th>Dividends</th>\n",
       "      <th>Stock Splits</th>\n",
       "    </tr>\n",
       "  </thead>\n",
       "  <tbody>\n",
       "    <tr>\n",
       "      <th>8275</th>\n",
       "      <td>1994-11-16</td>\n",
       "      <td>6.975581</td>\n",
       "      <td>7.006584</td>\n",
       "      <td>6.913576</td>\n",
       "      <td>7.006584</td>\n",
       "      <td>3713600.0</td>\n",
       "      <td>0.0</td>\n",
       "      <td>0.0</td>\n",
       "    </tr>\n",
       "    <tr>\n",
       "      <th>8276</th>\n",
       "      <td>1994-11-17</td>\n",
       "      <td>7.006586</td>\n",
       "      <td>7.099594</td>\n",
       "      <td>6.960082</td>\n",
       "      <td>6.991085</td>\n",
       "      <td>3488000.0</td>\n",
       "      <td>0.0</td>\n",
       "      <td>0.0</td>\n",
       "    </tr>\n",
       "    <tr>\n",
       "      <th>8277</th>\n",
       "      <td>1994-11-18</td>\n",
       "      <td>6.991083</td>\n",
       "      <td>7.006585</td>\n",
       "      <td>6.882574</td>\n",
       "      <td>6.898076</td>\n",
       "      <td>3144800.0</td>\n",
       "      <td>0.0</td>\n",
       "      <td>0.0</td>\n",
       "    </tr>\n",
       "    <tr>\n",
       "      <th>8278</th>\n",
       "      <td>1994-11-21</td>\n",
       "      <td>6.898075</td>\n",
       "      <td>6.960080</td>\n",
       "      <td>6.789566</td>\n",
       "      <td>6.805067</td>\n",
       "      <td>2582000.0</td>\n",
       "      <td>0.0</td>\n",
       "      <td>0.0</td>\n",
       "    </tr>\n",
       "    <tr>\n",
       "      <th>8279</th>\n",
       "      <td>1994-11-22</td>\n",
       "      <td>6.774066</td>\n",
       "      <td>6.774066</td>\n",
       "      <td>6.402035</td>\n",
       "      <td>6.402035</td>\n",
       "      <td>5804800.0</td>\n",
       "      <td>0.0</td>\n",
       "      <td>0.0</td>\n",
       "    </tr>\n",
       "    <tr>\n",
       "      <th>...</th>\n",
       "      <td>...</td>\n",
       "      <td>...</td>\n",
       "      <td>...</td>\n",
       "      <td>...</td>\n",
       "      <td>...</td>\n",
       "      <td>...</td>\n",
       "      <td>...</td>\n",
       "      <td>...</td>\n",
       "    </tr>\n",
       "    <tr>\n",
       "      <th>15153</th>\n",
       "      <td>2022-03-11</td>\n",
       "      <td>212.300003</td>\n",
       "      <td>217.770004</td>\n",
       "      <td>212.300003</td>\n",
       "      <td>214.830002</td>\n",
       "      <td>4042500.0</td>\n",
       "      <td>0.0</td>\n",
       "      <td>0.0</td>\n",
       "    </tr>\n",
       "    <tr>\n",
       "      <th>15154</th>\n",
       "      <td>2022-03-14</td>\n",
       "      <td>216.300003</td>\n",
       "      <td>218.479996</td>\n",
       "      <td>212.929993</td>\n",
       "      <td>215.440002</td>\n",
       "      <td>3530700.0</td>\n",
       "      <td>0.0</td>\n",
       "      <td>0.0</td>\n",
       "    </tr>\n",
       "    <tr>\n",
       "      <th>15155</th>\n",
       "      <td>2022-03-15</td>\n",
       "      <td>216.119995</td>\n",
       "      <td>217.380005</td>\n",
       "      <td>210.509995</td>\n",
       "      <td>216.460007</td>\n",
       "      <td>4364200.0</td>\n",
       "      <td>0.0</td>\n",
       "      <td>0.0</td>\n",
       "    </tr>\n",
       "    <tr>\n",
       "      <th>15156</th>\n",
       "      <td>2022-03-16</td>\n",
       "      <td>217.500000</td>\n",
       "      <td>219.490005</td>\n",
       "      <td>212.320007</td>\n",
       "      <td>216.080002</td>\n",
       "      <td>4378700.0</td>\n",
       "      <td>0.0</td>\n",
       "      <td>0.0</td>\n",
       "    </tr>\n",
       "    <tr>\n",
       "      <th>15157</th>\n",
       "      <td>2022-03-17</td>\n",
       "      <td>215.320007</td>\n",
       "      <td>221.779999</td>\n",
       "      <td>214.339996</td>\n",
       "      <td>221.699997</td>\n",
       "      <td>3599900.0</td>\n",
       "      <td>0.0</td>\n",
       "      <td>0.0</td>\n",
       "    </tr>\n",
       "  </tbody>\n",
       "</table>\n",
       "<p>6882 rows × 8 columns</p>\n",
       "</div>"
      ],
      "text/plain": [
       "             Date        Open        High         Low       Close     Volume  \\\n",
       "8275   1994-11-16    6.975581    7.006584    6.913576    7.006584  3713600.0   \n",
       "8276   1994-11-17    7.006586    7.099594    6.960082    6.991085  3488000.0   \n",
       "8277   1994-11-18    6.991083    7.006585    6.882574    6.898076  3144800.0   \n",
       "8278   1994-11-21    6.898075    6.960080    6.789566    6.805067  2582000.0   \n",
       "8279   1994-11-22    6.774066    6.774066    6.402035    6.402035  5804800.0   \n",
       "...           ...         ...         ...         ...         ...        ...   \n",
       "15153  2022-03-11  212.300003  217.770004  212.300003  214.830002  4042500.0   \n",
       "15154  2022-03-14  216.300003  218.479996  212.929993  215.440002  3530700.0   \n",
       "15155  2022-03-15  216.119995  217.380005  210.509995  216.460007  4364200.0   \n",
       "15156  2022-03-16  217.500000  219.490005  212.320007  216.080002  4378700.0   \n",
       "15157  2022-03-17  215.320007  221.779999  214.339996  221.699997  3599900.0   \n",
       "\n",
       "       Dividends  Stock Splits  \n",
       "8275         0.0           0.0  \n",
       "8276         0.0           0.0  \n",
       "8277         0.0           0.0  \n",
       "8278         0.0           0.0  \n",
       "8279         0.0           0.0  \n",
       "...          ...           ...  \n",
       "15153        0.0           0.0  \n",
       "15154        0.0           0.0  \n",
       "15155        0.0           0.0  \n",
       "15156        0.0           0.0  \n",
       "15157        0.0           0.0  \n",
       "\n",
       "[6882 rows x 8 columns]"
      ]
     },
     "execution_count": 113,
     "metadata": {},
     "output_type": "execute_result"
    }
   ],
   "source": [
    "df_filtered"
   ]
  },
  {
   "cell_type": "code",
   "execution_count": 114,
   "id": "223cd9e5",
   "metadata": {},
   "outputs": [
    {
     "data": {
      "text/plain": [
       "array(['1994-11-16', '1994-11-17', '1994-11-18', ..., '2022-03-15',\n",
       "       '2022-03-16', '2022-03-17'], dtype=object)"
      ]
     },
     "execution_count": 114,
     "metadata": {},
     "output_type": "execute_result"
    }
   ],
   "source": [
    "shortest_dates"
   ]
  },
  {
   "cell_type": "code",
   "execution_count": 125,
   "id": "48236cc0",
   "metadata": {},
   "outputs": [],
   "source": [
    "#extracting features\n",
    "for ticker in all_tickers:\n",
    "    df = pd.read_csv(r'C:\\Users\\xyyh\\Desktop\\Cornell\\ORIE 5370\\Project\\sp500_data_filtered\\{}.csv'.format(str(ticker)))\n",
    "    open_price = df.Open.values[:]\n",
    "    high_price = df.High.values[:]\n",
    "    low_price = df.Low.values[:]\n",
    "    close_price = df.Close.values[:]\n",
    "    volume = df.Volume.values[:]\n",
    "    ret = np.insert(np.log(close_price[1:]/close_price[:-1]), 0, np.nan)\n",
    "    ema = talib.EMA(ret, timeperiod=30)\n",
    "    macd, _, _ = talib.MACD(close_price, fastperiod=12, slowperiod=26, signalperiod=9)\n",
    "    rsi = talib.RSI(close_price, timeperiod=14)\n",
    "    df_output = pd.DataFrame({'Date': shortest_dates[33:], 'Close': close_price[33:], 'Return': ret[33:], \n",
    "                              'Volume': volume[33:],'EMA': ema[33:], 'MACD': macd[33:], 'RSI': rsi[33:]})\n",
    "    df_output.to_csv(r'C:\\Users\\xyyh\\Desktop\\Cornell\\ORIE 5370\\Project\\sp500_data_features\\{}.csv'.format(str(ticker)),\n",
    "                          index=False)"
   ]
  },
  {
   "cell_type": "code",
   "execution_count": null,
   "id": "e6d7ef44",
   "metadata": {},
   "outputs": [],
   "source": []
  }
 ],
 "metadata": {
  "kernelspec": {
   "display_name": "Python 3 (ipykernel)",
   "language": "python",
   "name": "python3"
  },
  "language_info": {
   "codemirror_mode": {
    "name": "ipython",
    "version": 3
   },
   "file_extension": ".py",
   "mimetype": "text/x-python",
   "name": "python",
   "nbconvert_exporter": "python",
   "pygments_lexer": "ipython3",
   "version": "3.9.7"
  }
 },
 "nbformat": 4,
 "nbformat_minor": 5
}
