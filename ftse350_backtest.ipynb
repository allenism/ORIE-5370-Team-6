{
 "cells": [
  {
   "cell_type": "code",
   "execution_count": 83,
   "id": "7664080c",
   "metadata": {},
   "outputs": [],
   "source": [
    "import numpy as np\n",
    "import pandas as pd\n",
    "import os\n",
    "import statsmodels as sm\n",
    "from sklearn.mixture import GaussianMixture\n",
    "from matplotlib import pyplot as plt\n",
    "from pmdarima.arima import auto_arima\n",
    "import cvxpy as cp\n",
    "import time\n",
    "import datetime as dt\n",
    "import matplotlib.dates as mdates\n",
    "import yfinance as yf\n",
    "import mosek"
   ]
  },
  {
   "cell_type": "code",
   "execution_count": 84,
   "id": "35813fe5",
   "metadata": {},
   "outputs": [
    {
     "data": {
      "text/plain": [
       "['ECOS', 'ECOS_BB', 'MOSEK', 'OSQP', 'SCIPY', 'SCS']"
      ]
     },
     "execution_count": 84,
     "metadata": {},
     "output_type": "execute_result"
    }
   ],
   "source": [
    "cp.installed_solvers()"
   ]
  },
  {
   "cell_type": "code",
   "execution_count": 85,
   "id": "3a0322ce",
   "metadata": {},
   "outputs": [],
   "source": [
    "#get data\n",
    "all_files = os.listdir(r'C:\\Users\\xyyh\\Desktop\\Cornell\\ORIE 5370\\Project\\ftse350_data_features')\n",
    "dates = pd.read_csv(r'C:\\Users\\xyyh\\Desktop\\Cornell\\ORIE 5370\\Project\\ftse350_data_features\\{}'.format(all_files[0])).Date\n",
    "dates = dates.drop([1265, 1266, 3705]).reset_index(drop=True)\n",
    "data_dict = {}\n",
    "for file in all_files:\n",
    "    df = pd.read_csv(r'C:\\Users\\xyyh\\Desktop\\Cornell\\ORIE 5370\\Project\\ftse350_data_features\\{}'.format(file))\n",
    "    df = df.drop([1265, 1266, 3705]).reset_index(drop=True)\n",
    "    data_dict[file] = df\n"
   ]
  },
  {
   "cell_type": "code",
   "execution_count": 82,
   "id": "004a76e7",
   "metadata": {
    "collapsed": true
   },
   "outputs": [
    {
     "ename": "PermissionError",
     "evalue": "[Errno 13] Permission denied: 'C:\\\\Users\\\\xyyh\\\\Desktop\\\\Cornell\\\\ORIE 5370\\\\Project\\\\ftse350.csv'",
     "output_type": "error",
     "traceback": [
      "\u001b[1;31m---------------------------------------------------------------------------\u001b[0m",
      "\u001b[1;31mPermissionError\u001b[0m                           Traceback (most recent call last)",
      "\u001b[1;32m~\\AppData\\Local\\Temp/ipykernel_7928/3465283611.py\u001b[0m in \u001b[0;36m<module>\u001b[1;34m\u001b[0m\n\u001b[0;32m      1\u001b[0m \u001b[1;31m#get S&P500 data\u001b[0m\u001b[1;33m\u001b[0m\u001b[1;33m\u001b[0m\u001b[0m\n\u001b[1;32m----> 2\u001b[1;33m \u001b[0myf\u001b[0m\u001b[1;33m.\u001b[0m\u001b[0mTicker\u001b[0m\u001b[1;33m(\u001b[0m\u001b[1;34m'^FTSE'\u001b[0m\u001b[1;33m)\u001b[0m\u001b[1;33m.\u001b[0m\u001b[0mhistory\u001b[0m\u001b[1;33m(\u001b[0m\u001b[0mstart\u001b[0m\u001b[1;33m=\u001b[0m\u001b[1;34m\"2006-04-28\"\u001b[0m\u001b[1;33m,\u001b[0m \u001b[0mend\u001b[0m\u001b[1;33m=\u001b[0m\u001b[1;34m\"2022-03-19\"\u001b[0m\u001b[1;33m)\u001b[0m\u001b[1;33m.\u001b[0m\u001b[0mto_csv\u001b[0m\u001b[1;33m(\u001b[0m\u001b[1;34mr'C:\\Users\\xyyh\\Desktop\\Cornell\\ORIE 5370\\Project\\ftse350.csv'\u001b[0m\u001b[1;33m)\u001b[0m\u001b[1;33m\u001b[0m\u001b[1;33m\u001b[0m\u001b[0m\n\u001b[0m",
      "\u001b[1;32m~\\anaconda3\\envs\\bda22\\lib\\site-packages\\pandas\\core\\generic.py\u001b[0m in \u001b[0;36mto_csv\u001b[1;34m(self, path_or_buf, sep, na_rep, float_format, columns, header, index, index_label, mode, encoding, compression, quoting, quotechar, line_terminator, chunksize, date_format, doublequote, escapechar, decimal, errors, storage_options)\u001b[0m\n\u001b[0;32m   3464\u001b[0m         )\n\u001b[0;32m   3465\u001b[0m \u001b[1;33m\u001b[0m\u001b[0m\n\u001b[1;32m-> 3466\u001b[1;33m         return DataFrameRenderer(formatter).to_csv(\n\u001b[0m\u001b[0;32m   3467\u001b[0m             \u001b[0mpath_or_buf\u001b[0m\u001b[1;33m,\u001b[0m\u001b[1;33m\u001b[0m\u001b[1;33m\u001b[0m\u001b[0m\n\u001b[0;32m   3468\u001b[0m             \u001b[0mline_terminator\u001b[0m\u001b[1;33m=\u001b[0m\u001b[0mline_terminator\u001b[0m\u001b[1;33m,\u001b[0m\u001b[1;33m\u001b[0m\u001b[1;33m\u001b[0m\u001b[0m\n",
      "\u001b[1;32m~\\anaconda3\\envs\\bda22\\lib\\site-packages\\pandas\\io\\formats\\format.py\u001b[0m in \u001b[0;36mto_csv\u001b[1;34m(self, path_or_buf, encoding, sep, columns, index_label, mode, compression, quoting, quotechar, line_terminator, chunksize, date_format, doublequote, escapechar, errors, storage_options)\u001b[0m\n\u001b[0;32m   1103\u001b[0m             \u001b[0mformatter\u001b[0m\u001b[1;33m=\u001b[0m\u001b[0mself\u001b[0m\u001b[1;33m.\u001b[0m\u001b[0mfmt\u001b[0m\u001b[1;33m,\u001b[0m\u001b[1;33m\u001b[0m\u001b[1;33m\u001b[0m\u001b[0m\n\u001b[0;32m   1104\u001b[0m         )\n\u001b[1;32m-> 1105\u001b[1;33m         \u001b[0mcsv_formatter\u001b[0m\u001b[1;33m.\u001b[0m\u001b[0msave\u001b[0m\u001b[1;33m(\u001b[0m\u001b[1;33m)\u001b[0m\u001b[1;33m\u001b[0m\u001b[1;33m\u001b[0m\u001b[0m\n\u001b[0m\u001b[0;32m   1106\u001b[0m \u001b[1;33m\u001b[0m\u001b[0m\n\u001b[0;32m   1107\u001b[0m         \u001b[1;32mif\u001b[0m \u001b[0mcreated_buffer\u001b[0m\u001b[1;33m:\u001b[0m\u001b[1;33m\u001b[0m\u001b[1;33m\u001b[0m\u001b[0m\n",
      "\u001b[1;32m~\\anaconda3\\envs\\bda22\\lib\\site-packages\\pandas\\io\\formats\\csvs.py\u001b[0m in \u001b[0;36msave\u001b[1;34m(self)\u001b[0m\n\u001b[0;32m    235\u001b[0m         \"\"\"\n\u001b[0;32m    236\u001b[0m         \u001b[1;31m# apply compression and byte/text conversion\u001b[0m\u001b[1;33m\u001b[0m\u001b[1;33m\u001b[0m\u001b[0m\n\u001b[1;32m--> 237\u001b[1;33m         with get_handle(\n\u001b[0m\u001b[0;32m    238\u001b[0m             \u001b[0mself\u001b[0m\u001b[1;33m.\u001b[0m\u001b[0mfilepath_or_buffer\u001b[0m\u001b[1;33m,\u001b[0m\u001b[1;33m\u001b[0m\u001b[1;33m\u001b[0m\u001b[0m\n\u001b[0;32m    239\u001b[0m             \u001b[0mself\u001b[0m\u001b[1;33m.\u001b[0m\u001b[0mmode\u001b[0m\u001b[1;33m,\u001b[0m\u001b[1;33m\u001b[0m\u001b[1;33m\u001b[0m\u001b[0m\n",
      "\u001b[1;32m~\\anaconda3\\envs\\bda22\\lib\\site-packages\\pandas\\io\\common.py\u001b[0m in \u001b[0;36mget_handle\u001b[1;34m(path_or_buf, mode, encoding, compression, memory_map, is_text, errors, storage_options)\u001b[0m\n\u001b[0;32m    700\u001b[0m         \u001b[1;32mif\u001b[0m \u001b[0mioargs\u001b[0m\u001b[1;33m.\u001b[0m\u001b[0mencoding\u001b[0m \u001b[1;32mand\u001b[0m \u001b[1;34m\"b\"\u001b[0m \u001b[1;32mnot\u001b[0m \u001b[1;32min\u001b[0m \u001b[0mioargs\u001b[0m\u001b[1;33m.\u001b[0m\u001b[0mmode\u001b[0m\u001b[1;33m:\u001b[0m\u001b[1;33m\u001b[0m\u001b[1;33m\u001b[0m\u001b[0m\n\u001b[0;32m    701\u001b[0m             \u001b[1;31m# Encoding\u001b[0m\u001b[1;33m\u001b[0m\u001b[1;33m\u001b[0m\u001b[0m\n\u001b[1;32m--> 702\u001b[1;33m             handle = open(\n\u001b[0m\u001b[0;32m    703\u001b[0m                 \u001b[0mhandle\u001b[0m\u001b[1;33m,\u001b[0m\u001b[1;33m\u001b[0m\u001b[1;33m\u001b[0m\u001b[0m\n\u001b[0;32m    704\u001b[0m                 \u001b[0mioargs\u001b[0m\u001b[1;33m.\u001b[0m\u001b[0mmode\u001b[0m\u001b[1;33m,\u001b[0m\u001b[1;33m\u001b[0m\u001b[1;33m\u001b[0m\u001b[0m\n",
      "\u001b[1;31mPermissionError\u001b[0m: [Errno 13] Permission denied: 'C:\\\\Users\\\\xyyh\\\\Desktop\\\\Cornell\\\\ORIE 5370\\\\Project\\\\ftse350.csv'"
     ]
    }
   ],
   "source": [
    "#get S&P500 data\n",
    "yf.Ticker('^FTSE').history(start=\"2006-04-28\", end=\"2022-03-19\").to_csv(r'C:\\Users\\xyyh\\Desktop\\Cornell\\ORIE 5370\\Project\\ftse350.csv')"
   ]
  },
  {
   "cell_type": "code",
   "execution_count": 86,
   "id": "00b39c70",
   "metadata": {},
   "outputs": [],
   "source": [
    "ftse350_df = pd.read_csv(r'C:\\Users\\xyyh\\Desktop\\Cornell\\ORIE 5370\\Project\\ftse350.csv')\n",
    "ftse350_df = ftse350_df.drop([1265]).reset_index(drop=True)\n",
    "ftse350_close = ftse350_df.Close.values[:]"
   ]
  },
  {
   "cell_type": "code",
   "execution_count": 87,
   "id": "6f63b4fa",
   "metadata": {},
   "outputs": [
    {
     "data": {
      "text/plain": [
       "0       True\n",
       "1       True\n",
       "2       True\n",
       "3       True\n",
       "4       True\n",
       "        ... \n",
       "4010    True\n",
       "4011    True\n",
       "4012    True\n",
       "4013    True\n",
       "4014    True\n",
       "Name: Date, Length: 4015, dtype: bool"
      ]
     },
     "execution_count": 87,
     "metadata": {},
     "output_type": "execute_result"
    }
   ],
   "source": [
    "dates == ftse350_df.Date"
   ]
  },
  {
   "cell_type": "code",
   "execution_count": 88,
   "id": "eb39f466",
   "metadata": {},
   "outputs": [],
   "source": [
    "#get features\n",
    "mu_vec = np.empty([len(dates), len(all_files)])\n",
    "vw_mu = np.empty([len(dates), len(all_files)])\n",
    "vw_rsi = np.empty([len(dates), len(all_files)])\n",
    "\n",
    "for i in range(len(dates)):\n",
    "    mu_daily = np.array([])\n",
    "    vw_mu_daily = np.array([])\n",
    "    vw_rsi_daily = np.array([])\n",
    "    \n",
    "    total_volume = 0\n",
    "    for file in all_files:\n",
    "        ret = data_dict[file].Return[i]\n",
    "        volume = data_dict[file].Volume[i]\n",
    "        rsi = data_dict[file].RSI[i]\n",
    "\n",
    "        total_volume += volume\n",
    "        mu_daily = np.append(mu_daily, ret)\n",
    "        vw_mu_daily = np.append(vw_mu_daily, ret*volume)\n",
    "        vw_rsi_daily = np.append(vw_rsi_daily, rsi*volume)\n",
    "    \n",
    "    if total_volume == 0:\n",
    "        print(dates.loc[i])\n",
    "    mu_vec[i] = mu_daily\n",
    "    vw_mu[i] = vw_mu_daily / total_volume\n",
    "    vw_rsi[i] = vw_rsi_daily / total_volume"
   ]
  },
  {
   "cell_type": "code",
   "execution_count": 90,
   "id": "d9500032",
   "metadata": {},
   "outputs": [
    {
     "data": {
      "text/plain": [
       "(4015, 200)"
      ]
     },
     "execution_count": 90,
     "metadata": {},
     "output_type": "execute_result"
    }
   ],
   "source": [
    "mu_vec.shape"
   ]
  },
  {
   "cell_type": "code",
   "execution_count": 91,
   "id": "9f425051",
   "metadata": {},
   "outputs": [],
   "source": [
    "def opt_w(mu, Sigma, n, slvr):\n",
    "    w = cp.Variable(n)\n",
    "    gamma = cp.Parameter(nonneg=True)\n",
    "    ret = mu.T@w \n",
    "    risk = cp.quad_form(w, Sigma)\n",
    "    prob = cp.Problem(cp.Maximize(ret - gamma*risk), \n",
    "               [cp.sum(w) == 1, \n",
    "                w >= 0])\n",
    "    \n",
    "    SAMPLES = 10\n",
    "    gamma_vals = np.logspace(-2, 3, num=SAMPLES)\n",
    "    \n",
    "    w_val = None\n",
    "    prev_sharpe = -1000\n",
    "    for i in range(SAMPLES):\n",
    "        gamma.value = gamma_vals[i]\n",
    "        prob.solve(solver=slvr)\n",
    "        risk_data = cp.sqrt(risk).value\n",
    "        ret_data = ret.value\n",
    "        sharpe = ret_data/risk_data\n",
    "        if sharpe > prev_sharpe:\n",
    "            w_val = w.value\n",
    "        prev_sharpe = sharpe \n",
    "    return w_val\n",
    "\n",
    "\n",
    "def backtest(n_state, feature, train_len, freq):\n",
    "    '''\n",
    "    n_state: the number of market states (int);\n",
    "    feature: the feature used to cluster data points;\n",
    "    train_len: the time span of training set (in years);\n",
    "    freq: days between each training set (int).\n",
    "    \n",
    "    returns the portfolio net asset value vector\n",
    "    '''\n",
    "    train_days = int(train_len * 253)\n",
    "    n_iter = int((len(feature) - train_days)/freq)+1\n",
    "    \n",
    "    nav = [1]\n",
    "    opt_failed_dates = []\n",
    "    \n",
    "    #create an initial equally weighted portfolio in case the optimization problem failed\n",
    "    w = np.ones(mu_vec.shape[1])/mu_vec.shape[1] \n",
    "    \n",
    "    for i in range(n_iter):\n",
    "        #get the data and the historical states:\n",
    "        feature_temp = feature[i*freq:i*freq+train_days]\n",
    "        mu_temp = mu_vec[i*freq:i*freq+train_days,:]\n",
    "        mu_test = mu_vec[i*freq+train_days:(i+1)*freq+train_days,:]\n",
    "        gm = GaussianMixture(n_components = n_state, random_state=0).fit(feature_temp)\n",
    "        all_states = gm.predict(feature_temp)\n",
    "        #predict the state:\n",
    "        predicted_state = int(np.round(auto_arima(all_states, start_p=0, start_q=0).predict(1)))\n",
    "        #get the mu and Sigma, and then optimal weights:\n",
    "        inds = np.where(all_states==predicted_state) #all the indices for this state\n",
    "\n",
    "        #if this particular state occurred only once or none, pick the most dominant state (a rare case):\n",
    "        if len(inds) <= 1:\n",
    "            predicted_state = np.bincount(all_states).argmax()\n",
    "            inds = np.where(all_states==predicted_state)\n",
    "\n",
    "        past_ret = np.take(mu_temp, inds, axis=0)[0] #the returns for this state\n",
    "        mu = np.mean(past_ret, axis=0)\n",
    "        Sigma = np.cov(past_ret, rowvar=False)\n",
    "        \n",
    "        #get the optimal weights and try 4 solvers \n",
    "        try:\n",
    "            w = opt_w(mu, Sigma, mu.shape[0], 'ECOS')\n",
    "        except:\n",
    "            try:\n",
    "                w = opt_w(mu, Sigma, mu.shape[0], 'ECOS_BB')\n",
    "            except:\n",
    "                try:\n",
    "                    w = opt_w(mu, Sigma, mu.shape[0], 'OSQP')\n",
    "                except:\n",
    "                    try:\n",
    "                        w = opt_w(mu, Sigma, mu.shape[0], 'SCS')\n",
    "                    except:\n",
    "                        opt_failed_dates.append(dates[i*freq+train_days])\n",
    "            \n",
    "            \n",
    "        #backtest:\n",
    "        nav_temp = np.cumprod(np.dot(np.exp(mu_test),w)) #net asset value in the test set\n",
    "        nav_append = nav_temp*nav[-1]\n",
    "        nav = np.hstack((nav, nav_append))\n",
    "        \n",
    "    return nav, opt_failed_dates"
   ]
  },
  {
   "cell_type": "code",
   "execution_count": 92,
   "id": "103a2e44",
   "metadata": {},
   "outputs": [
    {
     "name": "stdout",
     "output_type": "stream",
     "text": [
      "84\n"
     ]
    }
   ],
   "source": [
    "#define the candidate configurations\n",
    "cand_states = [2,3,4]\n",
    "cand_mu = [vw_mu, vw_rsi]\n",
    "mu_str = ['vw_mu', 'vw_rsi']\n",
    "cand_train_len = [0.5, 1, 2, 3, 4] #training set length or lookback period\n",
    "cand_freq = [21, 63, 252] #rebalancing \n",
    "tasks = []\n",
    "for state in cand_states:\n",
    "    for i in range(len(cand_mu)):\n",
    "        for train_len in cand_train_len:\n",
    "            for freq in cand_freq:\n",
    "                if freq <= train_len * 253:\n",
    "                    tasks.append([state, i, train_len, freq])\n",
    "\n",
    "print(len(tasks))"
   ]
  },
  {
   "cell_type": "code",
   "execution_count": 93,
   "id": "df2f48c3",
   "metadata": {},
   "outputs": [
    {
     "name": "stdout",
     "output_type": "stream",
     "text": [
      "State:2\n",
      "Feature:vw_mu\n",
      "Train_Len0.5\n",
      "Frequency21\n",
      "0.011904761904761904completed\n",
      "State:2\n",
      "Feature:vw_mu\n",
      "Train_Len0.5\n",
      "Frequency63\n",
      "0.023809523809523808completed\n",
      "State:2\n",
      "Feature:vw_mu\n",
      "Train_Len1\n",
      "Frequency21\n"
     ]
    },
    {
     "name": "stderr",
     "output_type": "stream",
     "text": [
      "C:\\Users\\xyyh\\anaconda3\\envs\\bda22\\lib\\site-packages\\cvxpy\\problems\\problem.py:1333: UserWarning: Solution may be inaccurate. Try another solver, adjusting the solver settings, or solve with verbose=True for more information.\n",
      "  warnings.warn(\n"
     ]
    },
    {
     "name": "stdout",
     "output_type": "stream",
     "text": [
      "0.03571428571428571completed\n",
      "State:2\n",
      "Feature:vw_mu\n",
      "Train_Len1\n",
      "Frequency63\n"
     ]
    },
    {
     "name": "stderr",
     "output_type": "stream",
     "text": [
      "C:\\Users\\xyyh\\anaconda3\\envs\\bda22\\lib\\site-packages\\cvxpy\\problems\\problem.py:1333: UserWarning: Solution may be inaccurate. Try another solver, adjusting the solver settings, or solve with verbose=True for more information.\n",
      "  warnings.warn(\n"
     ]
    },
    {
     "name": "stdout",
     "output_type": "stream",
     "text": [
      "0.047619047619047616completed\n",
      "State:2\n",
      "Feature:vw_mu\n",
      "Train_Len1\n",
      "Frequency252\n",
      "0.05952380952380952completed\n",
      "State:2\n",
      "Feature:vw_mu\n",
      "Train_Len2\n",
      "Frequency21\n",
      "0.07142857142857142completed\n",
      "State:2\n",
      "Feature:vw_mu\n",
      "Train_Len2\n",
      "Frequency63\n",
      "0.08333333333333333completed\n",
      "State:2\n",
      "Feature:vw_mu\n",
      "Train_Len2\n",
      "Frequency252\n",
      "0.09523809523809523completed\n",
      "State:2\n",
      "Feature:vw_mu\n",
      "Train_Len3\n",
      "Frequency21\n",
      "0.10714285714285714completed\n",
      "State:2\n",
      "Feature:vw_mu\n",
      "Train_Len3\n",
      "Frequency63\n",
      "0.11904761904761904completed\n",
      "State:2\n",
      "Feature:vw_mu\n",
      "Train_Len3\n",
      "Frequency252\n",
      "0.13095238095238096completed\n",
      "State:2\n",
      "Feature:vw_mu\n",
      "Train_Len4\n",
      "Frequency21\n",
      "0.14285714285714285completed\n",
      "State:2\n",
      "Feature:vw_mu\n",
      "Train_Len4\n",
      "Frequency63\n",
      "0.15476190476190477completed\n",
      "State:2\n",
      "Feature:vw_mu\n",
      "Train_Len4\n",
      "Frequency252\n",
      "0.16666666666666666completed\n",
      "State:2\n",
      "Feature:vw_rsi\n",
      "Train_Len0.5\n",
      "Frequency21\n",
      "0.17857142857142858completed\n",
      "State:2\n",
      "Feature:vw_rsi\n",
      "Train_Len0.5\n",
      "Frequency63\n",
      "0.19047619047619047completed\n",
      "State:2\n",
      "Feature:vw_rsi\n",
      "Train_Len1\n",
      "Frequency21\n",
      "0.20238095238095238completed\n",
      "State:2\n",
      "Feature:vw_rsi\n",
      "Train_Len1\n",
      "Frequency63\n",
      "0.21428571428571427completed\n",
      "State:2\n",
      "Feature:vw_rsi\n",
      "Train_Len1\n",
      "Frequency252\n",
      "0.2261904761904762completed\n",
      "State:2\n",
      "Feature:vw_rsi\n",
      "Train_Len2\n",
      "Frequency21\n",
      "0.23809523809523808completed\n",
      "State:2\n",
      "Feature:vw_rsi\n",
      "Train_Len2\n",
      "Frequency63\n",
      "0.25completed\n",
      "State:2\n",
      "Feature:vw_rsi\n",
      "Train_Len2\n",
      "Frequency252\n",
      "0.2619047619047619completed\n",
      "State:2\n",
      "Feature:vw_rsi\n",
      "Train_Len3\n",
      "Frequency21\n"
     ]
    },
    {
     "name": "stderr",
     "output_type": "stream",
     "text": [
      "C:\\Users\\xyyh\\anaconda3\\envs\\bda22\\lib\\site-packages\\cvxpy\\problems\\problem.py:1333: UserWarning: Solution may be inaccurate. Try another solver, adjusting the solver settings, or solve with verbose=True for more information.\n",
      "  warnings.warn(\n"
     ]
    },
    {
     "name": "stdout",
     "output_type": "stream",
     "text": [
      "0.27380952380952384completed\n",
      "State:2\n",
      "Feature:vw_rsi\n",
      "Train_Len3\n",
      "Frequency63\n"
     ]
    },
    {
     "name": "stderr",
     "output_type": "stream",
     "text": [
      "C:\\Users\\xyyh\\anaconda3\\envs\\bda22\\lib\\site-packages\\cvxpy\\problems\\problem.py:1333: UserWarning: Solution may be inaccurate. Try another solver, adjusting the solver settings, or solve with verbose=True for more information.\n",
      "  warnings.warn(\n"
     ]
    },
    {
     "name": "stdout",
     "output_type": "stream",
     "text": [
      "0.2857142857142857completed\n",
      "State:2\n",
      "Feature:vw_rsi\n",
      "Train_Len3\n",
      "Frequency252\n",
      "0.2976190476190476completed\n",
      "State:2\n",
      "Feature:vw_rsi\n",
      "Train_Len4\n",
      "Frequency21\n",
      "0.30952380952380953completed\n",
      "State:2\n",
      "Feature:vw_rsi\n",
      "Train_Len4\n",
      "Frequency63\n",
      "0.32142857142857145completed\n",
      "State:2\n",
      "Feature:vw_rsi\n",
      "Train_Len4\n",
      "Frequency252\n",
      "0.3333333333333333completed\n",
      "State:3\n",
      "Feature:vw_mu\n",
      "Train_Len0.5\n",
      "Frequency21\n"
     ]
    },
    {
     "name": "stderr",
     "output_type": "stream",
     "text": [
      "C:\\Users\\xyyh\\anaconda3\\envs\\bda22\\lib\\site-packages\\cvxpy\\problems\\problem.py:1333: UserWarning: Solution may be inaccurate. Try another solver, adjusting the solver settings, or solve with verbose=True for more information.\n",
      "  warnings.warn(\n"
     ]
    },
    {
     "name": "stdout",
     "output_type": "stream",
     "text": [
      "0.34523809523809523completed\n",
      "State:3\n",
      "Feature:vw_mu\n",
      "Train_Len0.5\n",
      "Frequency63\n"
     ]
    },
    {
     "name": "stderr",
     "output_type": "stream",
     "text": [
      "C:\\Users\\xyyh\\anaconda3\\envs\\bda22\\lib\\site-packages\\cvxpy\\problems\\problem.py:1333: UserWarning: Solution may be inaccurate. Try another solver, adjusting the solver settings, or solve with verbose=True for more information.\n",
      "  warnings.warn(\n"
     ]
    },
    {
     "name": "stdout",
     "output_type": "stream",
     "text": [
      "0.35714285714285715completed\n",
      "State:3\n",
      "Feature:vw_mu\n",
      "Train_Len1\n",
      "Frequency21\n"
     ]
    },
    {
     "name": "stderr",
     "output_type": "stream",
     "text": [
      "C:\\Users\\xyyh\\anaconda3\\envs\\bda22\\lib\\site-packages\\cvxpy\\problems\\problem.py:1333: UserWarning: Solution may be inaccurate. Try another solver, adjusting the solver settings, or solve with verbose=True for more information.\n",
      "  warnings.warn(\n"
     ]
    },
    {
     "name": "stdout",
     "output_type": "stream",
     "text": [
      "0.36904761904761907completed\n",
      "State:3\n",
      "Feature:vw_mu\n",
      "Train_Len1\n",
      "Frequency63\n",
      "0.38095238095238093completed\n",
      "State:3\n",
      "Feature:vw_mu\n",
      "Train_Len1\n",
      "Frequency252\n",
      "0.39285714285714285completed\n",
      "State:3\n",
      "Feature:vw_mu\n",
      "Train_Len2\n",
      "Frequency21\n"
     ]
    },
    {
     "name": "stderr",
     "output_type": "stream",
     "text": [
      "C:\\Users\\xyyh\\anaconda3\\envs\\bda22\\lib\\site-packages\\cvxpy\\problems\\problem.py:1333: UserWarning: Solution may be inaccurate. Try another solver, adjusting the solver settings, or solve with verbose=True for more information.\n",
      "  warnings.warn(\n"
     ]
    },
    {
     "name": "stdout",
     "output_type": "stream",
     "text": [
      "0.40476190476190477completed\n",
      "State:3\n",
      "Feature:vw_mu\n",
      "Train_Len2\n",
      "Frequency63\n",
      "0.4166666666666667completed\n",
      "State:3\n",
      "Feature:vw_mu\n",
      "Train_Len2\n",
      "Frequency252\n",
      "0.42857142857142855completed\n",
      "State:3\n",
      "Feature:vw_mu\n",
      "Train_Len3\n",
      "Frequency21\n",
      "0.44047619047619047completed\n",
      "State:3\n",
      "Feature:vw_mu\n",
      "Train_Len3\n",
      "Frequency63\n",
      "0.4523809523809524completed\n",
      "State:3\n",
      "Feature:vw_mu\n",
      "Train_Len3\n",
      "Frequency252\n",
      "0.4642857142857143completed\n",
      "State:3\n",
      "Feature:vw_mu\n",
      "Train_Len4\n",
      "Frequency21\n",
      "0.47619047619047616completed\n",
      "State:3\n",
      "Feature:vw_mu\n",
      "Train_Len4\n",
      "Frequency63\n",
      "0.4880952380952381completed\n",
      "State:3\n",
      "Feature:vw_mu\n",
      "Train_Len4\n",
      "Frequency252\n",
      "0.5completed\n",
      "State:3\n",
      "Feature:vw_rsi\n",
      "Train_Len0.5\n",
      "Frequency21\n"
     ]
    },
    {
     "name": "stderr",
     "output_type": "stream",
     "text": [
      "C:\\Users\\xyyh\\anaconda3\\envs\\bda22\\lib\\site-packages\\cvxpy\\problems\\problem.py:1333: UserWarning: Solution may be inaccurate. Try another solver, adjusting the solver settings, or solve with verbose=True for more information.\n",
      "  warnings.warn(\n"
     ]
    },
    {
     "name": "stdout",
     "output_type": "stream",
     "text": [
      "0.5119047619047619completed\n",
      "State:3\n",
      "Feature:vw_rsi\n",
      "Train_Len0.5\n",
      "Frequency63\n",
      "0.5238095238095238completed\n",
      "State:3\n",
      "Feature:vw_rsi\n",
      "Train_Len1\n",
      "Frequency21\n",
      "0.5357142857142857completed\n",
      "State:3\n",
      "Feature:vw_rsi\n",
      "Train_Len1\n",
      "Frequency63\n",
      "0.5476190476190477completed\n",
      "State:3\n",
      "Feature:vw_rsi\n",
      "Train_Len1\n",
      "Frequency252\n",
      "0.5595238095238095completed\n",
      "State:3\n",
      "Feature:vw_rsi\n",
      "Train_Len2\n",
      "Frequency21\n",
      "0.5714285714285714completed\n",
      "State:3\n",
      "Feature:vw_rsi\n",
      "Train_Len2\n",
      "Frequency63\n",
      "0.5833333333333334completed\n",
      "State:3\n",
      "Feature:vw_rsi\n",
      "Train_Len2\n",
      "Frequency252\n",
      "0.5952380952380952completed\n",
      "State:3\n",
      "Feature:vw_rsi\n",
      "Train_Len3\n",
      "Frequency21\n",
      "0.6071428571428571completed\n",
      "State:3\n",
      "Feature:vw_rsi\n",
      "Train_Len3\n",
      "Frequency63\n",
      "0.6190476190476191completed\n",
      "State:3\n",
      "Feature:vw_rsi\n",
      "Train_Len3\n",
      "Frequency252\n",
      "0.6309523809523809completed\n",
      "State:3\n",
      "Feature:vw_rsi\n",
      "Train_Len4\n",
      "Frequency21\n",
      "0.6428571428571429completed\n",
      "State:3\n",
      "Feature:vw_rsi\n",
      "Train_Len4\n",
      "Frequency63\n",
      "0.6547619047619048completed\n",
      "State:3\n",
      "Feature:vw_rsi\n",
      "Train_Len4\n",
      "Frequency252\n",
      "0.6666666666666666completed\n",
      "State:4\n",
      "Feature:vw_mu\n",
      "Train_Len0.5\n",
      "Frequency21\n",
      "0.6785714285714286completed\n",
      "State:4\n",
      "Feature:vw_mu\n",
      "Train_Len0.5\n",
      "Frequency63\n",
      "0.6904761904761905completed\n",
      "State:4\n",
      "Feature:vw_mu\n",
      "Train_Len1\n",
      "Frequency21\n",
      "0.7023809523809523completed\n",
      "State:4\n",
      "Feature:vw_mu\n",
      "Train_Len1\n",
      "Frequency63\n",
      "0.7142857142857143completed\n",
      "State:4\n",
      "Feature:vw_mu\n",
      "Train_Len1\n",
      "Frequency252\n",
      "0.7261904761904762completed\n",
      "State:4\n",
      "Feature:vw_mu\n",
      "Train_Len2\n",
      "Frequency21\n",
      "0.7380952380952381completed\n",
      "State:4\n",
      "Feature:vw_mu\n",
      "Train_Len2\n",
      "Frequency63\n",
      "0.75completed\n",
      "State:4\n",
      "Feature:vw_mu\n",
      "Train_Len2\n",
      "Frequency252\n",
      "0.7619047619047619completed\n",
      "State:4\n",
      "Feature:vw_mu\n",
      "Train_Len3\n",
      "Frequency21\n"
     ]
    },
    {
     "name": "stderr",
     "output_type": "stream",
     "text": [
      "C:\\Users\\xyyh\\anaconda3\\envs\\bda22\\lib\\site-packages\\cvxpy\\problems\\problem.py:1333: UserWarning: Solution may be inaccurate. Try another solver, adjusting the solver settings, or solve with verbose=True for more information.\n",
      "  warnings.warn(\n"
     ]
    },
    {
     "name": "stdout",
     "output_type": "stream",
     "text": [
      "0.7738095238095238completed\n",
      "State:4\n",
      "Feature:vw_mu\n",
      "Train_Len3\n",
      "Frequency63\n",
      "0.7857142857142857completed\n",
      "State:4\n",
      "Feature:vw_mu\n",
      "Train_Len3\n",
      "Frequency252\n",
      "0.7976190476190477completed\n",
      "State:4\n",
      "Feature:vw_mu\n",
      "Train_Len4\n",
      "Frequency21\n",
      "0.8095238095238095completed\n",
      "State:4\n",
      "Feature:vw_mu\n",
      "Train_Len4\n",
      "Frequency63\n",
      "0.8214285714285714completed\n",
      "State:4\n",
      "Feature:vw_mu\n",
      "Train_Len4\n",
      "Frequency252\n",
      "0.8333333333333334completed\n",
      "State:4\n",
      "Feature:vw_rsi\n",
      "Train_Len0.5\n",
      "Frequency21\n",
      "0.8452380952380952completed\n",
      "State:4\n",
      "Feature:vw_rsi\n",
      "Train_Len0.5\n",
      "Frequency63\n",
      "0.8571428571428571completed\n",
      "State:4\n",
      "Feature:vw_rsi\n",
      "Train_Len1\n",
      "Frequency21\n"
     ]
    },
    {
     "name": "stderr",
     "output_type": "stream",
     "text": [
      "C:\\Users\\xyyh\\anaconda3\\envs\\bda22\\lib\\site-packages\\cvxpy\\problems\\problem.py:1333: UserWarning: Solution may be inaccurate. Try another solver, adjusting the solver settings, or solve with verbose=True for more information.\n",
      "  warnings.warn(\n"
     ]
    },
    {
     "name": "stdout",
     "output_type": "stream",
     "text": [
      "0.8690476190476191completed\n",
      "State:4\n",
      "Feature:vw_rsi\n",
      "Train_Len1\n",
      "Frequency63\n"
     ]
    },
    {
     "name": "stderr",
     "output_type": "stream",
     "text": [
      "C:\\Users\\xyyh\\anaconda3\\envs\\bda22\\lib\\site-packages\\cvxpy\\problems\\problem.py:1333: UserWarning: Solution may be inaccurate. Try another solver, adjusting the solver settings, or solve with verbose=True for more information.\n",
      "  warnings.warn(\n"
     ]
    },
    {
     "name": "stdout",
     "output_type": "stream",
     "text": [
      "0.8809523809523809completed\n",
      "State:4\n",
      "Feature:vw_rsi\n",
      "Train_Len1\n",
      "Frequency252\n"
     ]
    },
    {
     "name": "stderr",
     "output_type": "stream",
     "text": [
      "C:\\Users\\xyyh\\anaconda3\\envs\\bda22\\lib\\site-packages\\cvxpy\\problems\\problem.py:1333: UserWarning: Solution may be inaccurate. Try another solver, adjusting the solver settings, or solve with verbose=True for more information.\n",
      "  warnings.warn(\n"
     ]
    },
    {
     "name": "stdout",
     "output_type": "stream",
     "text": [
      "0.8928571428571429completed\n",
      "State:4\n",
      "Feature:vw_rsi\n",
      "Train_Len2\n",
      "Frequency21\n"
     ]
    },
    {
     "name": "stderr",
     "output_type": "stream",
     "text": [
      "C:\\Users\\xyyh\\anaconda3\\envs\\bda22\\lib\\site-packages\\cvxpy\\problems\\problem.py:1333: UserWarning: Solution may be inaccurate. Try another solver, adjusting the solver settings, or solve with verbose=True for more information.\n",
      "  warnings.warn(\n"
     ]
    },
    {
     "name": "stdout",
     "output_type": "stream",
     "text": [
      "0.9047619047619048completed\n",
      "State:4\n",
      "Feature:vw_rsi\n",
      "Train_Len2\n",
      "Frequency63\n"
     ]
    },
    {
     "name": "stderr",
     "output_type": "stream",
     "text": [
      "C:\\Users\\xyyh\\anaconda3\\envs\\bda22\\lib\\site-packages\\cvxpy\\problems\\problem.py:1333: UserWarning: Solution may be inaccurate. Try another solver, adjusting the solver settings, or solve with verbose=True for more information.\n",
      "  warnings.warn(\n"
     ]
    },
    {
     "name": "stdout",
     "output_type": "stream",
     "text": [
      "0.9166666666666666completed\n",
      "State:4\n",
      "Feature:vw_rsi\n",
      "Train_Len2\n",
      "Frequency252\n",
      "0.9285714285714286completed\n",
      "State:4\n",
      "Feature:vw_rsi\n",
      "Train_Len3\n",
      "Frequency21\n",
      "0.9404761904761905completed\n",
      "State:4\n",
      "Feature:vw_rsi\n",
      "Train_Len3\n",
      "Frequency63\n",
      "0.9523809523809523completed\n",
      "State:4\n",
      "Feature:vw_rsi\n",
      "Train_Len3\n",
      "Frequency252\n",
      "0.9642857142857143completed\n",
      "State:4\n",
      "Feature:vw_rsi\n",
      "Train_Len4\n",
      "Frequency21\n",
      "0.9761904761904762completed\n",
      "State:4\n",
      "Feature:vw_rsi\n",
      "Train_Len4\n",
      "Frequency63\n",
      "0.9880952380952381completed\n",
      "State:4\n",
      "Feature:vw_rsi\n",
      "Train_Len4\n",
      "Frequency252\n",
      "1.0completed\n"
     ]
    }
   ],
   "source": [
    "count = 0\n",
    "for i in range(len(tasks)):\n",
    "    task = tasks[i]\n",
    "    state = task[0]\n",
    "    feature = cand_mu[task[1]]\n",
    "    train_len = task[2]\n",
    "    freq = task[3]\n",
    "    print('State:'+str(state))\n",
    "    print('Feature:'+mu_str[task[1]])\n",
    "    print('Train_Len'+str(train_len))\n",
    "    print('Frequency'+str(freq))\n",
    "    nav, opt_failed_dates = backtest(state, feature, train_len, freq)\n",
    "    nan_arr = np.empty(len(nav)-1)\n",
    "    nan_arr_dates = np.empty(len(nav)-len(opt_failed_dates))\n",
    "    nan_arr[:] = np.nan\n",
    "    nan_arr_dates[:] = np.nan\n",
    "    yearly_ret = np.hstack((np.power(nav[-1], 253/len(nav))-1, nan_arr))\n",
    "    ftse350_nav = ftse350_close[-len(nav):]/ftse350_close[-len(nav)]\n",
    "    ftse350_ret = np.hstack((np.power(ftse350_nav[-1], 253/len(ftse350_nav))-1, nan_arr))\n",
    "    opt_failed_dates_output = np.hstack((opt_failed_dates, nan_arr_dates))\n",
    "    df_output = pd.DataFrame({'Dates': dates[-len(nav):], 'NAV':nav, 'FTSE350 NAV':ftse350_nav, 'Yearly Ret':yearly_ret, \n",
    "                              'FTSE Yearly Ret':ftse350_ret, 'Opt Failed Dates':opt_failed_dates_output})\n",
    "    df_output.to_csv('ftse350_backtest\\FTSE350_{}_{}_{}_{}.csv'.format(str(state), mu_str[task[1]], str(train_len), str(freq)), index=False)\n",
    "    count += 1\n",
    "    print(str(count/len(tasks))+'completed')\n",
    "    \n",
    "\n",
    "# yearly_vol = np.hstack((np.std((nav[1:]/nav[:-1]-nav[:-1]))*np.sqrt(253), nan_arr))\n",
    "# yearly_sr = np.hstack((yearly_ret[0]/yearly_vol[0], nan_arr))\n",
    "# sp500_vol = np.hstack((np.std((sp500_nav[1:]/sp500_nav[:-1]-nav[:-1]))*np.sqrt(253), nan_arr))\n",
    "# sp500_sr = np.hstack((sp500_ret[0]/sp500_vol[0], nan_arr))\n"
   ]
  }
 ],
 "metadata": {
  "kernelspec": {
   "display_name": "Python 3 (ipykernel)",
   "language": "python",
   "name": "python3"
  },
  "language_info": {
   "codemirror_mode": {
    "name": "ipython",
    "version": 3
   },
   "file_extension": ".py",
   "mimetype": "text/x-python",
   "name": "python",
   "nbconvert_exporter": "python",
   "pygments_lexer": "ipython3",
   "version": "3.9.7"
  }
 },
 "nbformat": 4,
 "nbformat_minor": 5
}
