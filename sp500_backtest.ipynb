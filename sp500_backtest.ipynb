{
 "cells": [
  {
   "cell_type": "code",
   "execution_count": 1,
   "id": "7664080c",
   "metadata": {},
   "outputs": [],
   "source": [
    "import numpy as np\n",
    "import pandas as pd\n",
    "import os\n",
    "import statsmodels as sm\n",
    "from sklearn.mixture import GaussianMixture\n",
    "from matplotlib import pyplot as plt\n",
    "from pmdarima.arima import auto_arima\n",
    "import cvxpy as cp\n",
    "import time\n",
    "import datetime as dt\n",
    "import matplotlib.dates as mdates\n",
    "import yfinance as yf\n",
    "import mosek"
   ]
  },
  {
   "cell_type": "code",
   "execution_count": 2,
   "id": "35813fe5",
   "metadata": {},
   "outputs": [
    {
     "data": {
      "text/plain": [
       "['ECOS', 'ECOS_BB', 'MOSEK', 'OSQP', 'SCIPY', 'SCS']"
      ]
     },
     "execution_count": 2,
     "metadata": {},
     "output_type": "execute_result"
    }
   ],
   "source": [
    "cp.installed_solvers()"
   ]
  },
  {
   "cell_type": "code",
   "execution_count": 5,
   "id": "3a0322ce",
   "metadata": {},
   "outputs": [],
   "source": [
    "#get data\n",
    "all_files = os.listdir(r'C:\\Users\\xyyh\\Desktop\\Cornell\\ORIE 5370\\Project\\sp500_data_features')\n",
    "dates = pd.read_csv(r'C:\\Users\\xyyh\\Desktop\\Cornell\\ORIE 5370\\Project\\sp500_data_features\\{}'.format(all_files[0])).Date\n",
    "data_dict = {}\n",
    "for file in all_files:\n",
    "    df = pd.read_csv(r'C:\\Users\\xyyh\\Desktop\\Cornell\\ORIE 5370\\Project\\sp500_data_features\\{}'.format(file))\n",
    "    data_dict[file] = df\n"
   ]
  },
  {
   "cell_type": "code",
   "execution_count": 6,
   "id": "e5f20e3b",
   "metadata": {},
   "outputs": [
    {
     "name": "stdout",
     "output_type": "stream",
     "text": [
      "0       1995-01-05\n",
      "1       1995-01-06\n",
      "2       1995-01-09\n",
      "3       1995-01-10\n",
      "4       1995-01-11\n",
      "           ...    \n",
      "6844    2022-03-11\n",
      "6845    2022-03-14\n",
      "6846    2022-03-15\n",
      "6847    2022-03-16\n",
      "6848    2022-03-17\n",
      "Name: Date, Length: 6849, dtype: object\n"
     ]
    }
   ],
   "source": [
    "print(dates)"
   ]
  },
  {
   "cell_type": "code",
   "execution_count": 13,
   "id": "004a76e7",
   "metadata": {},
   "outputs": [],
   "source": [
    "#get S&P500 data\n",
    "yf.Ticker('SPY').history(start=\"1995-01-04\", end=\"2022-03-18\").to_csv(r'C:\\Users\\xyyh\\Desktop\\Cornell\\ORIE 5370\\Project\\SP500.csv')"
   ]
  },
  {
   "cell_type": "code",
   "execution_count": 15,
   "id": "00b39c70",
   "metadata": {},
   "outputs": [
    {
     "name": "stdout",
     "output_type": "stream",
     "text": [
      "(6850,)\n",
      "0        1/4/1995\n",
      "1        1/5/1995\n",
      "2        1/6/1995\n",
      "3        1/9/1995\n",
      "4       1/10/1995\n",
      "          ...    \n",
      "6845    3/11/2022\n",
      "6846    3/14/2022\n",
      "6847    3/15/2022\n",
      "6848    3/16/2022\n",
      "6849    3/17/2022\n",
      "Name: Date, Length: 6850, dtype: object\n"
     ]
    }
   ],
   "source": [
    "sp500_df = pd.read_csv(r'C:\\Users\\xyyh\\Desktop\\Cornell\\ORIE 5370\\Project\\SP500.csv')\n",
    "sp500_close = sp500_df.Close.values[:]\n",
    "print(sp500_close.shape)\n",
    "print(sp500_df.Date)"
   ]
  },
  {
   "cell_type": "code",
   "execution_count": 16,
   "id": "eb39f466",
   "metadata": {},
   "outputs": [],
   "source": [
    "#get features\n",
    "mu_vec = np.empty([len(dates), len(all_files)])\n",
    "vw_mu = np.empty([len(dates), len(all_files)])\n",
    "vw_rsi = np.empty([len(dates), len(all_files)])\n",
    "\n",
    "for i in range(len(dates)):\n",
    "    mu_daily = np.array([])\n",
    "    vw_mu_daily = np.array([])\n",
    "    vw_rsi_daily = np.array([])\n",
    "    \n",
    "    total_volume = 0\n",
    "    for file in all_files:\n",
    "        ret = data_dict[file].Return[i]\n",
    "        volume = data_dict[file].Volume[i]\n",
    "        rsi = data_dict[file].RSI[i]\n",
    "\n",
    "        total_volume += volume\n",
    "        mu_daily = np.append(mu_daily, ret)\n",
    "        vw_mu_daily = np.append(vw_mu_daily, ret*volume)\n",
    "        vw_rsi_daily = np.append(vw_rsi_daily, rsi*volume)\n",
    "    \n",
    "    mu_vec[i] = mu_daily\n",
    "    vw_mu[i] = vw_mu_daily / total_volume\n",
    "    vw_rsi[i] = vw_rsi_daily / total_volume"
   ]
  },
  {
   "cell_type": "code",
   "execution_count": 17,
   "id": "d9500032",
   "metadata": {},
   "outputs": [
    {
     "data": {
      "text/plain": [
       "(6849, 200)"
      ]
     },
     "execution_count": 17,
     "metadata": {},
     "output_type": "execute_result"
    }
   ],
   "source": [
    "mu_vec.shape"
   ]
  },
  {
   "cell_type": "code",
   "execution_count": 3,
   "id": "3dc069a2",
   "metadata": {},
   "outputs": [
    {
     "name": "stdout",
     "output_type": "stream",
     "text": [
      "[1.0000e-02 4.0000e-02 1.3000e-01 4.6000e-01 1.6700e+00 5.9900e+00\n",
      " 2.1540e+01 7.7430e+01 2.7826e+02 1.0000e+03]\n"
     ]
    }
   ],
   "source": [
    "gamma_vals = np.logspace(-2, 3, num=10)\n",
    "print(np.round(gamma_vals, decimals=2))"
   ]
  },
  {
   "cell_type": "code",
   "execution_count": 5,
   "id": "c94f3ba3",
   "metadata": {},
   "outputs": [
    {
     "name": "stderr",
     "output_type": "stream",
     "text": [
      "C:\\Users\\xyyh\\AppData\\Local\\Temp/ipykernel_7636/1416494193.py:1: RuntimeWarning: invalid value encountered in log10\n",
      "  np.log10(-2)\n"
     ]
    },
    {
     "data": {
      "text/plain": [
       "nan"
      ]
     },
     "execution_count": 5,
     "metadata": {},
     "output_type": "execute_result"
    }
   ],
   "source": []
  },
  {
   "cell_type": "code",
   "execution_count": 18,
   "id": "9f425051",
   "metadata": {},
   "outputs": [],
   "source": [
    "def opt_w(mu, Sigma, n, slvr):\n",
    "    w = cp.Variable(n)\n",
    "    gamma = cp.Parameter(nonneg=True)\n",
    "    ret = mu.T@w \n",
    "    risk = cp.quad_form(w, Sigma)\n",
    "    prob = cp.Problem(cp.Maximize(ret - gamma*risk), \n",
    "               [cp.sum(w) == 1, \n",
    "                w >= 0])\n",
    "    \n",
    "    SAMPLES = 10\n",
    "    gamma_vals = np.logspace(-2, 3, num=SAMPLES)\n",
    "    \n",
    "    w_val = None\n",
    "    prev_sharpe = -1000\n",
    "    for i in range(SAMPLES):\n",
    "        gamma.value = gamma_vals[i]\n",
    "        prob.solve(solver=slvr)\n",
    "        risk_data = cp.sqrt(risk).value\n",
    "        ret_data = ret.value\n",
    "        sharpe = ret_data/risk_data\n",
    "        if sharpe > prev_sharpe:\n",
    "            w_val = w.value\n",
    "        prev_sharpe = sharpe \n",
    "    return w_val\n",
    "\n",
    "\n",
    "def backtest(n_state, feature, train_len, freq):\n",
    "    '''\n",
    "    n_state: the number of market states (int);\n",
    "    feature: the feature used to cluster data points;\n",
    "    train_len: the time span of training set (in years);\n",
    "    freq: days between each training set (int).\n",
    "    \n",
    "    returns the portfolio net asset value vector\n",
    "    '''\n",
    "    train_days = int(train_len * 253)\n",
    "    n_iter = int((len(feature) - train_days)/freq)+1\n",
    "    \n",
    "    nav = [1]\n",
    "    opt_failed_dates = []\n",
    "    \n",
    "    #create an initial equally weighted portfolio in case the optimization problem failed\n",
    "    w = np.ones(mu_vec.shape[1])/mu_vec.shape[1] \n",
    "    \n",
    "    for i in range(n_iter):\n",
    "        #get the data and the historical states:\n",
    "        feature_temp = feature[i*freq:i*freq+train_days]\n",
    "        mu_temp = mu_vec[i*freq:i*freq+train_days,:]\n",
    "        mu_test = mu_vec[i*freq+train_days:(i+1)*freq+train_days,:]\n",
    "        gm = GaussianMixture(n_components = n_state, random_state=0).fit(feature_temp)\n",
    "        all_states = gm.predict(feature_temp)\n",
    "        #predict the state:\n",
    "        predicted_state = int(np.round(auto_arima(all_states, start_p=0, start_q=0).predict(1)))\n",
    "        #get the mu and Sigma, and then optimal weights:\n",
    "        inds = np.where(all_states==predicted_state) #all the indices for this state\n",
    "\n",
    "        #if this particular state occurred only once or none, pick the most dominant state (a rare case):\n",
    "        if len(inds) <= 1:\n",
    "            predicted_state = np.bincount(all_states).argmax()\n",
    "            inds = np.where(all_states==predicted_state)\n",
    "\n",
    "        past_ret = np.take(mu_temp, inds, axis=0)[0] #the returns for this state\n",
    "        mu = np.mean(past_ret, axis=0)\n",
    "        Sigma = np.cov(past_ret, rowvar=False)\n",
    "        \n",
    "        #get the optimal weights and try 4 solvers \n",
    "        try:\n",
    "            w = opt_w(mu, Sigma, mu.shape[0], 'ECOS')\n",
    "        except:\n",
    "            try:\n",
    "                w = opt_w(mu, Sigma, mu.shape[0], 'ECOS_BB')\n",
    "            except:\n",
    "                try:\n",
    "                    w = opt_w(mu, Sigma, mu.shape[0], 'OSQP')\n",
    "                except:\n",
    "                    try:\n",
    "                        w = opt_w(mu, Sigma, mu.shape[0], 'SCS')\n",
    "                    except:\n",
    "                        opt_failed_dates.append(dates[i*freq+train_days])\n",
    "            \n",
    "            \n",
    "        #backtest:\n",
    "        nav_temp = np.cumprod(np.dot(np.exp(mu_test),w)) #net asset value in the test set\n",
    "        nav_append = nav_temp*nav[-1]\n",
    "        nav = np.hstack((nav, nav_append))\n",
    "        \n",
    "    return nav, opt_failed_dates"
   ]
  },
  {
   "cell_type": "code",
   "execution_count": 19,
   "id": "103a2e44",
   "metadata": {},
   "outputs": [
    {
     "name": "stdout",
     "output_type": "stream",
     "text": [
      "84\n"
     ]
    }
   ],
   "source": [
    "#define the candidate configurations\n",
    "cand_states = [2,3,4]\n",
    "cand_mu = [vw_mu, vw_rsi]\n",
    "mu_str = ['vw_mu', 'vw_rsi']\n",
    "cand_train_len = [0.5, 1, 2, 3, 4] #training set length or lookback period\n",
    "cand_freq = [21, 63, 252] #rebalancing \n",
    "tasks = []\n",
    "for state in cand_states:\n",
    "    for i in range(len(cand_mu)):\n",
    "        for train_len in cand_train_len:\n",
    "            for freq in cand_freq:\n",
    "                if freq <= train_len * 253:\n",
    "                    tasks.append([state, i, train_len, freq])\n",
    "\n",
    "print(len(tasks))"
   ]
  },
  {
   "cell_type": "code",
   "execution_count": 21,
   "id": "df2f48c3",
   "metadata": {},
   "outputs": [
    {
     "name": "stdout",
     "output_type": "stream",
     "text": [
      "State:2\n",
      "Feature:vw_mu\n",
      "Train_Len0.5\n",
      "Frequency21\n"
     ]
    },
    {
     "name": "stderr",
     "output_type": "stream",
     "text": [
      "C:\\Users\\xyyh\\anaconda3\\envs\\bda22\\lib\\site-packages\\cvxpy\\problems\\problem.py:1333: UserWarning: Solution may be inaccurate. Try another solver, adjusting the solver settings, or solve with verbose=True for more information.\n",
      "  warnings.warn(\n"
     ]
    },
    {
     "name": "stdout",
     "output_type": "stream",
     "text": [
      "0.011904761904761904completed\n",
      "State:2\n",
      "Feature:vw_mu\n",
      "Train_Len0.5\n",
      "Frequency63\n",
      "0.023809523809523808completed\n",
      "State:2\n",
      "Feature:vw_mu\n",
      "Train_Len1\n",
      "Frequency21\n"
     ]
    },
    {
     "name": "stderr",
     "output_type": "stream",
     "text": [
      "C:\\Users\\xyyh\\anaconda3\\envs\\bda22\\lib\\site-packages\\cvxpy\\problems\\problem.py:1333: UserWarning: Solution may be inaccurate. Try another solver, adjusting the solver settings, or solve with verbose=True for more information.\n",
      "  warnings.warn(\n"
     ]
    },
    {
     "name": "stdout",
     "output_type": "stream",
     "text": [
      "0.03571428571428571completed\n",
      "State:2\n",
      "Feature:vw_mu\n",
      "Train_Len1\n",
      "Frequency63\n"
     ]
    },
    {
     "name": "stderr",
     "output_type": "stream",
     "text": [
      "C:\\Users\\xyyh\\anaconda3\\envs\\bda22\\lib\\site-packages\\cvxpy\\problems\\problem.py:1333: UserWarning: Solution may be inaccurate. Try another solver, adjusting the solver settings, or solve with verbose=True for more information.\n",
      "  warnings.warn(\n"
     ]
    },
    {
     "name": "stdout",
     "output_type": "stream",
     "text": [
      "0.047619047619047616completed\n",
      "State:2\n",
      "Feature:vw_mu\n",
      "Train_Len1\n",
      "Frequency252\n"
     ]
    },
    {
     "name": "stderr",
     "output_type": "stream",
     "text": [
      "C:\\Users\\xyyh\\anaconda3\\envs\\bda22\\lib\\site-packages\\cvxpy\\problems\\problem.py:1333: UserWarning: Solution may be inaccurate. Try another solver, adjusting the solver settings, or solve with verbose=True for more information.\n",
      "  warnings.warn(\n"
     ]
    },
    {
     "name": "stdout",
     "output_type": "stream",
     "text": [
      "0.05952380952380952completed\n",
      "State:2\n",
      "Feature:vw_mu\n",
      "Train_Len2\n",
      "Frequency21\n"
     ]
    },
    {
     "name": "stderr",
     "output_type": "stream",
     "text": [
      "C:\\Users\\xyyh\\anaconda3\\envs\\bda22\\lib\\site-packages\\cvxpy\\problems\\problem.py:1333: UserWarning: Solution may be inaccurate. Try another solver, adjusting the solver settings, or solve with verbose=True for more information.\n",
      "  warnings.warn(\n",
      "C:\\Users\\xyyh\\anaconda3\\envs\\bda22\\lib\\site-packages\\cvxpy\\problems\\problem.py:1333: UserWarning: Solution may be inaccurate. Try another solver, adjusting the solver settings, or solve with verbose=True for more information.\n",
      "  warnings.warn(\n"
     ]
    },
    {
     "name": "stdout",
     "output_type": "stream",
     "text": [
      "0.07142857142857142completed\n",
      "State:2\n",
      "Feature:vw_mu\n",
      "Train_Len2\n",
      "Frequency63\n"
     ]
    },
    {
     "name": "stderr",
     "output_type": "stream",
     "text": [
      "C:\\Users\\xyyh\\anaconda3\\envs\\bda22\\lib\\site-packages\\cvxpy\\problems\\problem.py:1333: UserWarning: Solution may be inaccurate. Try another solver, adjusting the solver settings, or solve with verbose=True for more information.\n",
      "  warnings.warn(\n"
     ]
    },
    {
     "name": "stdout",
     "output_type": "stream",
     "text": [
      "0.08333333333333333completed\n",
      "State:2\n",
      "Feature:vw_mu\n",
      "Train_Len2\n",
      "Frequency252\n",
      "0.09523809523809523completed\n",
      "State:2\n",
      "Feature:vw_mu\n",
      "Train_Len3\n",
      "Frequency21\n"
     ]
    },
    {
     "name": "stderr",
     "output_type": "stream",
     "text": [
      "C:\\Users\\xyyh\\anaconda3\\envs\\bda22\\lib\\site-packages\\cvxpy\\problems\\problem.py:1333: UserWarning: Solution may be inaccurate. Try another solver, adjusting the solver settings, or solve with verbose=True for more information.\n",
      "  warnings.warn(\n"
     ]
    },
    {
     "name": "stdout",
     "output_type": "stream",
     "text": [
      "0.10714285714285714completed\n",
      "State:2\n",
      "Feature:vw_mu\n",
      "Train_Len3\n",
      "Frequency63\n",
      "0.11904761904761904completed\n",
      "State:2\n",
      "Feature:vw_mu\n",
      "Train_Len3\n",
      "Frequency252\n",
      "0.13095238095238096completed\n",
      "State:2\n",
      "Feature:vw_mu\n",
      "Train_Len4\n",
      "Frequency21\n",
      "0.14285714285714285completed\n",
      "State:2\n",
      "Feature:vw_mu\n",
      "Train_Len4\n",
      "Frequency63\n",
      "0.15476190476190477completed\n",
      "State:2\n",
      "Feature:vw_mu\n",
      "Train_Len4\n",
      "Frequency252\n",
      "0.16666666666666666completed\n",
      "State:2\n",
      "Feature:vw_rsi\n",
      "Train_Len0.5\n",
      "Frequency21\n",
      "0.17857142857142858completed\n",
      "State:2\n",
      "Feature:vw_rsi\n",
      "Train_Len0.5\n",
      "Frequency63\n",
      "0.19047619047619047completed\n",
      "State:2\n",
      "Feature:vw_rsi\n",
      "Train_Len1\n",
      "Frequency21\n",
      "0.20238095238095238completed\n",
      "State:2\n",
      "Feature:vw_rsi\n",
      "Train_Len1\n",
      "Frequency63\n",
      "0.21428571428571427completed\n",
      "State:2\n",
      "Feature:vw_rsi\n",
      "Train_Len1\n",
      "Frequency252\n",
      "0.2261904761904762completed\n",
      "State:2\n",
      "Feature:vw_rsi\n",
      "Train_Len2\n",
      "Frequency21\n"
     ]
    },
    {
     "name": "stderr",
     "output_type": "stream",
     "text": [
      "C:\\Users\\xyyh\\anaconda3\\envs\\bda22\\lib\\site-packages\\cvxpy\\problems\\problem.py:1333: UserWarning: Solution may be inaccurate. Try another solver, adjusting the solver settings, or solve with verbose=True for more information.\n",
      "  warnings.warn(\n"
     ]
    },
    {
     "name": "stdout",
     "output_type": "stream",
     "text": [
      "0.23809523809523808completed\n",
      "State:2\n",
      "Feature:vw_rsi\n",
      "Train_Len2\n",
      "Frequency63\n",
      "0.25completed\n",
      "State:2\n",
      "Feature:vw_rsi\n",
      "Train_Len2\n",
      "Frequency252\n",
      "0.2619047619047619completed\n",
      "State:2\n",
      "Feature:vw_rsi\n",
      "Train_Len3\n",
      "Frequency21\n",
      "0.27380952380952384completed\n",
      "State:2\n",
      "Feature:vw_rsi\n",
      "Train_Len3\n",
      "Frequency63\n",
      "0.2857142857142857completed\n",
      "State:2\n",
      "Feature:vw_rsi\n",
      "Train_Len3\n",
      "Frequency252\n",
      "0.2976190476190476completed\n",
      "State:2\n",
      "Feature:vw_rsi\n",
      "Train_Len4\n",
      "Frequency21\n"
     ]
    },
    {
     "name": "stderr",
     "output_type": "stream",
     "text": [
      "C:\\Users\\xyyh\\anaconda3\\envs\\bda22\\lib\\site-packages\\cvxpy\\problems\\problem.py:1333: UserWarning: Solution may be inaccurate. Try another solver, adjusting the solver settings, or solve with verbose=True for more information.\n",
      "  warnings.warn(\n"
     ]
    },
    {
     "name": "stdout",
     "output_type": "stream",
     "text": [
      "0.30952380952380953completed\n",
      "State:2\n",
      "Feature:vw_rsi\n",
      "Train_Len4\n",
      "Frequency63\n",
      "0.32142857142857145completed\n",
      "State:2\n",
      "Feature:vw_rsi\n",
      "Train_Len4\n",
      "Frequency252\n",
      "0.3333333333333333completed\n",
      "State:3\n",
      "Feature:vw_mu\n",
      "Train_Len0.5\n",
      "Frequency21\n",
      "0.34523809523809523completed\n",
      "State:3\n",
      "Feature:vw_mu\n",
      "Train_Len0.5\n",
      "Frequency63\n",
      "0.35714285714285715completed\n",
      "State:3\n",
      "Feature:vw_mu\n",
      "Train_Len1\n",
      "Frequency21\n",
      "0.36904761904761907completed\n",
      "State:3\n",
      "Feature:vw_mu\n",
      "Train_Len1\n",
      "Frequency63\n",
      "0.38095238095238093completed\n",
      "State:3\n",
      "Feature:vw_mu\n",
      "Train_Len1\n",
      "Frequency252\n",
      "0.39285714285714285completed\n",
      "State:3\n",
      "Feature:vw_mu\n",
      "Train_Len2\n",
      "Frequency21\n",
      "0.40476190476190477completed\n",
      "State:3\n",
      "Feature:vw_mu\n",
      "Train_Len2\n",
      "Frequency63\n",
      "0.4166666666666667completed\n",
      "State:3\n",
      "Feature:vw_mu\n",
      "Train_Len2\n",
      "Frequency252\n",
      "0.42857142857142855completed\n",
      "State:3\n",
      "Feature:vw_mu\n",
      "Train_Len3\n",
      "Frequency21\n",
      "0.44047619047619047completed\n",
      "State:3\n",
      "Feature:vw_mu\n",
      "Train_Len3\n",
      "Frequency63\n",
      "0.4523809523809524completed\n",
      "State:3\n",
      "Feature:vw_mu\n",
      "Train_Len3\n",
      "Frequency252\n",
      "0.4642857142857143completed\n",
      "State:3\n",
      "Feature:vw_mu\n",
      "Train_Len4\n",
      "Frequency21\n"
     ]
    },
    {
     "name": "stderr",
     "output_type": "stream",
     "text": [
      "C:\\Users\\xyyh\\anaconda3\\envs\\bda22\\lib\\site-packages\\cvxpy\\problems\\problem.py:1333: UserWarning: Solution may be inaccurate. Try another solver, adjusting the solver settings, or solve with verbose=True for more information.\n",
      "  warnings.warn(\n"
     ]
    },
    {
     "name": "stdout",
     "output_type": "stream",
     "text": [
      "0.47619047619047616completed\n",
      "State:3\n",
      "Feature:vw_mu\n",
      "Train_Len4\n",
      "Frequency63\n"
     ]
    },
    {
     "name": "stderr",
     "output_type": "stream",
     "text": [
      "C:\\Users\\xyyh\\anaconda3\\envs\\bda22\\lib\\site-packages\\cvxpy\\problems\\problem.py:1333: UserWarning: Solution may be inaccurate. Try another solver, adjusting the solver settings, or solve with verbose=True for more information.\n",
      "  warnings.warn(\n"
     ]
    },
    {
     "name": "stdout",
     "output_type": "stream",
     "text": [
      "0.4880952380952381completed\n",
      "State:3\n",
      "Feature:vw_mu\n",
      "Train_Len4\n",
      "Frequency252\n",
      "0.5completed\n",
      "State:3\n",
      "Feature:vw_rsi\n",
      "Train_Len0.5\n",
      "Frequency21\n"
     ]
    },
    {
     "name": "stderr",
     "output_type": "stream",
     "text": [
      "C:\\Users\\xyyh\\anaconda3\\envs\\bda22\\lib\\site-packages\\cvxpy\\problems\\problem.py:1333: UserWarning: Solution may be inaccurate. Try another solver, adjusting the solver settings, or solve with verbose=True for more information.\n",
      "  warnings.warn(\n"
     ]
    },
    {
     "name": "stdout",
     "output_type": "stream",
     "text": [
      "0.5119047619047619completed\n",
      "State:3\n",
      "Feature:vw_rsi\n",
      "Train_Len0.5\n",
      "Frequency63\n",
      "0.5238095238095238completed\n",
      "State:3\n",
      "Feature:vw_rsi\n",
      "Train_Len1\n",
      "Frequency21\n",
      "0.5357142857142857completed\n",
      "State:3\n",
      "Feature:vw_rsi\n",
      "Train_Len1\n",
      "Frequency63\n",
      "0.5476190476190477completed\n",
      "State:3\n",
      "Feature:vw_rsi\n",
      "Train_Len1\n",
      "Frequency252\n",
      "0.5595238095238095completed\n",
      "State:3\n",
      "Feature:vw_rsi\n",
      "Train_Len2\n",
      "Frequency21\n"
     ]
    },
    {
     "name": "stderr",
     "output_type": "stream",
     "text": [
      "C:\\Users\\xyyh\\anaconda3\\envs\\bda22\\lib\\site-packages\\cvxpy\\problems\\problem.py:1333: UserWarning: Solution may be inaccurate. Try another solver, adjusting the solver settings, or solve with verbose=True for more information.\n",
      "  warnings.warn(\n",
      "C:\\Users\\xyyh\\anaconda3\\envs\\bda22\\lib\\site-packages\\cvxpy\\problems\\problem.py:1333: UserWarning: Solution may be inaccurate. Try another solver, adjusting the solver settings, or solve with verbose=True for more information.\n",
      "  warnings.warn(\n"
     ]
    },
    {
     "name": "stdout",
     "output_type": "stream",
     "text": [
      "0.5714285714285714completed\n",
      "State:3\n",
      "Feature:vw_rsi\n",
      "Train_Len2\n",
      "Frequency63\n",
      "0.5833333333333334completed\n",
      "State:3\n",
      "Feature:vw_rsi\n",
      "Train_Len2\n",
      "Frequency252\n",
      "0.5952380952380952completed\n",
      "State:3\n",
      "Feature:vw_rsi\n",
      "Train_Len3\n",
      "Frequency21\n",
      "0.6071428571428571completed\n",
      "State:3\n",
      "Feature:vw_rsi\n",
      "Train_Len3\n",
      "Frequency63\n",
      "0.6190476190476191completed\n",
      "State:3\n",
      "Feature:vw_rsi\n",
      "Train_Len3\n",
      "Frequency252\n",
      "0.6309523809523809completed\n",
      "State:3\n",
      "Feature:vw_rsi\n",
      "Train_Len4\n",
      "Frequency21\n"
     ]
    },
    {
     "name": "stderr",
     "output_type": "stream",
     "text": [
      "C:\\Users\\xyyh\\anaconda3\\envs\\bda22\\lib\\site-packages\\cvxpy\\problems\\problem.py:1333: UserWarning: Solution may be inaccurate. Try another solver, adjusting the solver settings, or solve with verbose=True for more information.\n",
      "  warnings.warn(\n"
     ]
    },
    {
     "name": "stdout",
     "output_type": "stream",
     "text": [
      "0.6428571428571429completed\n",
      "State:3\n",
      "Feature:vw_rsi\n",
      "Train_Len4\n",
      "Frequency63\n",
      "0.6547619047619048completed\n",
      "State:3\n",
      "Feature:vw_rsi\n",
      "Train_Len4\n",
      "Frequency252\n",
      "0.6666666666666666completed\n",
      "State:4\n",
      "Feature:vw_mu\n",
      "Train_Len0.5\n",
      "Frequency21\n",
      "0.6785714285714286completed\n",
      "State:4\n",
      "Feature:vw_mu\n",
      "Train_Len0.5\n",
      "Frequency63\n",
      "0.6904761904761905completed\n",
      "State:4\n",
      "Feature:vw_mu\n",
      "Train_Len1\n",
      "Frequency21\n"
     ]
    },
    {
     "name": "stderr",
     "output_type": "stream",
     "text": [
      "C:\\Users\\xyyh\\anaconda3\\envs\\bda22\\lib\\site-packages\\cvxpy\\problems\\problem.py:1333: UserWarning: Solution may be inaccurate. Try another solver, adjusting the solver settings, or solve with verbose=True for more information.\n",
      "  warnings.warn(\n",
      "C:\\Users\\xyyh\\anaconda3\\envs\\bda22\\lib\\site-packages\\cvxpy\\problems\\problem.py:1333: UserWarning: Solution may be inaccurate. Try another solver, adjusting the solver settings, or solve with verbose=True for more information.\n",
      "  warnings.warn(\n"
     ]
    },
    {
     "name": "stdout",
     "output_type": "stream",
     "text": [
      "0.7023809523809523completed\n",
      "State:4\n",
      "Feature:vw_mu\n",
      "Train_Len1\n",
      "Frequency63\n",
      "0.7142857142857143completed\n",
      "State:4\n",
      "Feature:vw_mu\n",
      "Train_Len1\n",
      "Frequency252\n",
      "0.7261904761904762completed\n",
      "State:4\n",
      "Feature:vw_mu\n",
      "Train_Len2\n",
      "Frequency21\n"
     ]
    },
    {
     "name": "stderr",
     "output_type": "stream",
     "text": [
      "C:\\Users\\xyyh\\anaconda3\\envs\\bda22\\lib\\site-packages\\cvxpy\\problems\\problem.py:1333: UserWarning: Solution may be inaccurate. Try another solver, adjusting the solver settings, or solve with verbose=True for more information.\n",
      "  warnings.warn(\n"
     ]
    },
    {
     "name": "stdout",
     "output_type": "stream",
     "text": [
      "0.7380952380952381completed\n",
      "State:4\n",
      "Feature:vw_mu\n",
      "Train_Len2\n",
      "Frequency63\n"
     ]
    },
    {
     "name": "stderr",
     "output_type": "stream",
     "text": [
      "C:\\Users\\xyyh\\anaconda3\\envs\\bda22\\lib\\site-packages\\cvxpy\\problems\\problem.py:1333: UserWarning: Solution may be inaccurate. Try another solver, adjusting the solver settings, or solve with verbose=True for more information.\n",
      "  warnings.warn(\n"
     ]
    },
    {
     "name": "stdout",
     "output_type": "stream",
     "text": [
      "0.75completed\n",
      "State:4\n",
      "Feature:vw_mu\n",
      "Train_Len2\n",
      "Frequency252\n",
      "0.7619047619047619completed\n",
      "State:4\n",
      "Feature:vw_mu\n",
      "Train_Len3\n",
      "Frequency21\n"
     ]
    },
    {
     "name": "stderr",
     "output_type": "stream",
     "text": [
      "C:\\Users\\xyyh\\anaconda3\\envs\\bda22\\lib\\site-packages\\cvxpy\\problems\\problem.py:1333: UserWarning: Solution may be inaccurate. Try another solver, adjusting the solver settings, or solve with verbose=True for more information.\n",
      "  warnings.warn(\n"
     ]
    },
    {
     "name": "stdout",
     "output_type": "stream",
     "text": [
      "0.7738095238095238completed\n",
      "State:4\n",
      "Feature:vw_mu\n",
      "Train_Len3\n",
      "Frequency63\n"
     ]
    },
    {
     "name": "stderr",
     "output_type": "stream",
     "text": [
      "C:\\Users\\xyyh\\anaconda3\\envs\\bda22\\lib\\site-packages\\cvxpy\\problems\\problem.py:1333: UserWarning: Solution may be inaccurate. Try another solver, adjusting the solver settings, or solve with verbose=True for more information.\n",
      "  warnings.warn(\n"
     ]
    },
    {
     "name": "stdout",
     "output_type": "stream",
     "text": [
      "0.7857142857142857completed\n",
      "State:4\n",
      "Feature:vw_mu\n",
      "Train_Len3\n",
      "Frequency252\n"
     ]
    },
    {
     "name": "stderr",
     "output_type": "stream",
     "text": [
      "C:\\Users\\xyyh\\anaconda3\\envs\\bda22\\lib\\site-packages\\cvxpy\\problems\\problem.py:1333: UserWarning: Solution may be inaccurate. Try another solver, adjusting the solver settings, or solve with verbose=True for more information.\n",
      "  warnings.warn(\n"
     ]
    },
    {
     "name": "stdout",
     "output_type": "stream",
     "text": [
      "0.7976190476190477completed\n",
      "State:4\n",
      "Feature:vw_mu\n",
      "Train_Len4\n",
      "Frequency21\n"
     ]
    },
    {
     "name": "stderr",
     "output_type": "stream",
     "text": [
      "C:\\Users\\xyyh\\anaconda3\\envs\\bda22\\lib\\site-packages\\cvxpy\\problems\\problem.py:1333: UserWarning: Solution may be inaccurate. Try another solver, adjusting the solver settings, or solve with verbose=True for more information.\n",
      "  warnings.warn(\n",
      "C:\\Users\\xyyh\\anaconda3\\envs\\bda22\\lib\\site-packages\\cvxpy\\problems\\problem.py:1333: UserWarning: Solution may be inaccurate. Try another solver, adjusting the solver settings, or solve with verbose=True for more information.\n",
      "  warnings.warn(\n"
     ]
    },
    {
     "name": "stdout",
     "output_type": "stream",
     "text": [
      "0.8095238095238095completed\n",
      "State:4\n",
      "Feature:vw_mu\n",
      "Train_Len4\n",
      "Frequency63\n"
     ]
    },
    {
     "name": "stderr",
     "output_type": "stream",
     "text": [
      "C:\\Users\\xyyh\\anaconda3\\envs\\bda22\\lib\\site-packages\\cvxpy\\problems\\problem.py:1333: UserWarning: Solution may be inaccurate. Try another solver, adjusting the solver settings, or solve with verbose=True for more information.\n",
      "  warnings.warn(\n"
     ]
    },
    {
     "name": "stdout",
     "output_type": "stream",
     "text": [
      "0.8214285714285714completed\n",
      "State:4\n",
      "Feature:vw_mu\n",
      "Train_Len4\n",
      "Frequency252\n"
     ]
    },
    {
     "name": "stderr",
     "output_type": "stream",
     "text": [
      "C:\\Users\\xyyh\\anaconda3\\envs\\bda22\\lib\\site-packages\\cvxpy\\problems\\problem.py:1333: UserWarning: Solution may be inaccurate. Try another solver, adjusting the solver settings, or solve with verbose=True for more information.\n",
      "  warnings.warn(\n"
     ]
    },
    {
     "name": "stdout",
     "output_type": "stream",
     "text": [
      "0.8333333333333334completed\n",
      "State:4\n",
      "Feature:vw_rsi\n",
      "Train_Len0.5\n",
      "Frequency21\n"
     ]
    },
    {
     "name": "stderr",
     "output_type": "stream",
     "text": [
      "C:\\Users\\xyyh\\anaconda3\\envs\\bda22\\lib\\site-packages\\cvxpy\\problems\\problem.py:1333: UserWarning: Solution may be inaccurate. Try another solver, adjusting the solver settings, or solve with verbose=True for more information.\n",
      "  warnings.warn(\n",
      "C:\\Users\\xyyh\\anaconda3\\envs\\bda22\\lib\\site-packages\\cvxpy\\problems\\problem.py:1333: UserWarning: Solution may be inaccurate. Try another solver, adjusting the solver settings, or solve with verbose=True for more information.\n",
      "  warnings.warn(\n",
      "C:\\Users\\xyyh\\anaconda3\\envs\\bda22\\lib\\site-packages\\cvxpy\\problems\\problem.py:1333: UserWarning: Solution may be inaccurate. Try another solver, adjusting the solver settings, or solve with verbose=True for more information.\n",
      "  warnings.warn(\n",
      "C:\\Users\\xyyh\\anaconda3\\envs\\bda22\\lib\\site-packages\\cvxpy\\problems\\problem.py:1333: UserWarning: Solution may be inaccurate. Try another solver, adjusting the solver settings, or solve with verbose=True for more information.\n",
      "  warnings.warn(\n"
     ]
    },
    {
     "name": "stdout",
     "output_type": "stream",
     "text": [
      "0.8452380952380952completed\n",
      "State:4\n",
      "Feature:vw_rsi\n",
      "Train_Len0.5\n",
      "Frequency63\n"
     ]
    },
    {
     "name": "stderr",
     "output_type": "stream",
     "text": [
      "C:\\Users\\xyyh\\anaconda3\\envs\\bda22\\lib\\site-packages\\cvxpy\\problems\\problem.py:1333: UserWarning: Solution may be inaccurate. Try another solver, adjusting the solver settings, or solve with verbose=True for more information.\n",
      "  warnings.warn(\n"
     ]
    },
    {
     "name": "stdout",
     "output_type": "stream",
     "text": [
      "0.8571428571428571completed\n",
      "State:4\n",
      "Feature:vw_rsi\n",
      "Train_Len1\n",
      "Frequency21\n",
      "0.8690476190476191completed\n",
      "State:4\n",
      "Feature:vw_rsi\n",
      "Train_Len1\n",
      "Frequency63\n",
      "0.8809523809523809completed\n",
      "State:4\n",
      "Feature:vw_rsi\n",
      "Train_Len1\n",
      "Frequency252\n",
      "0.8928571428571429completed\n",
      "State:4\n",
      "Feature:vw_rsi\n",
      "Train_Len2\n",
      "Frequency21\n",
      "0.9047619047619048completed\n",
      "State:4\n",
      "Feature:vw_rsi\n",
      "Train_Len2\n",
      "Frequency63\n",
      "0.9166666666666666completed\n",
      "State:4\n",
      "Feature:vw_rsi\n",
      "Train_Len2\n",
      "Frequency252\n",
      "0.9285714285714286completed\n",
      "State:4\n",
      "Feature:vw_rsi\n",
      "Train_Len3\n",
      "Frequency21\n"
     ]
    },
    {
     "name": "stderr",
     "output_type": "stream",
     "text": [
      "C:\\Users\\xyyh\\anaconda3\\envs\\bda22\\lib\\site-packages\\cvxpy\\problems\\problem.py:1333: UserWarning: Solution may be inaccurate. Try another solver, adjusting the solver settings, or solve with verbose=True for more information.\n",
      "  warnings.warn(\n"
     ]
    },
    {
     "name": "stdout",
     "output_type": "stream",
     "text": [
      "0.9404761904761905completed\n",
      "State:4\n",
      "Feature:vw_rsi\n",
      "Train_Len3\n",
      "Frequency63\n",
      "0.9523809523809523completed\n",
      "State:4\n",
      "Feature:vw_rsi\n",
      "Train_Len3\n",
      "Frequency252\n",
      "0.9642857142857143completed\n",
      "State:4\n",
      "Feature:vw_rsi\n",
      "Train_Len4\n",
      "Frequency21\n",
      "0.9761904761904762completed\n",
      "State:4\n",
      "Feature:vw_rsi\n",
      "Train_Len4\n",
      "Frequency63\n",
      "0.9880952380952381completed\n",
      "State:4\n",
      "Feature:vw_rsi\n",
      "Train_Len4\n",
      "Frequency252\n",
      "1.0completed\n"
     ]
    }
   ],
   "source": [
    "count = 0\n",
    "for i in range(len(tasks)):\n",
    "    task = tasks[i]\n",
    "    state = task[0]\n",
    "    feature = cand_mu[task[1]]\n",
    "    train_len = task[2]\n",
    "    freq = task[3]\n",
    "    print('State:'+str(state))\n",
    "    print('Feature:'+mu_str[task[1]])\n",
    "    print('Train_Len'+str(train_len))\n",
    "    print('Frequency'+str(freq))\n",
    "    nav, opt_failed_dates = backtest(state, feature, train_len, freq)\n",
    "    nan_arr = np.empty(len(nav)-1)\n",
    "    nan_arr_dates = np.empty(len(nav)-len(opt_failed_dates))\n",
    "    nan_arr[:] = np.nan\n",
    "    nan_arr_dates[:] = np.nan\n",
    "    yearly_ret = np.hstack((np.power(nav[-1], 253/len(nav))-1, nan_arr))\n",
    "    sp500_nav = sp500_close[-len(nav):]/sp500_close[-len(nav)]\n",
    "    sp500_ret = np.hstack((np.power(sp500_nav[-1], 253/len(sp500_nav))-1, nan_arr))\n",
    "    opt_failed_dates_output = np.hstack((opt_failed_dates, nan_arr_dates))\n",
    "    df_output = pd.DataFrame({'Dates': dates[-len(nav):], 'NAV':nav, 'SP500 NAV':sp500_nav, 'Yearly Ret':yearly_ret, \n",
    "                              'SP Yearly Ret':sp500_ret, 'Opt Failed Dates':opt_failed_dates_output})\n",
    "    df_output.to_csv('sp500_backtest\\SP500_{}_{}_{}_{}.csv'.format(str(state), mu_str[task[1]], str(train_len), str(freq)), index=False)\n",
    "    count += 1\n",
    "    print(str(count/len(tasks))+'completed')\n",
    "    \n",
    "\n",
    "# yearly_vol = np.hstack((np.std((nav[1:]/nav[:-1]-nav[:-1]))*np.sqrt(253), nan_arr))\n",
    "# yearly_sr = np.hstack((yearly_ret[0]/yearly_vol[0], nan_arr))\n",
    "# sp500_vol = np.hstack((np.std((sp500_nav[1:]/sp500_nav[:-1]-nav[:-1]))*np.sqrt(253), nan_arr))\n",
    "# sp500_sr = np.hstack((sp500_ret[0]/sp500_vol[0], nan_arr))\n"
   ]
  }
 ],
 "metadata": {
  "kernelspec": {
   "display_name": "Python 3 (ipykernel)",
   "language": "python",
   "name": "python3"
  },
  "language_info": {
   "codemirror_mode": {
    "name": "ipython",
    "version": 3
   },
   "file_extension": ".py",
   "mimetype": "text/x-python",
   "name": "python",
   "nbconvert_exporter": "python",
   "pygments_lexer": "ipython3",
   "version": "3.9.7"
  }
 },
 "nbformat": 4,
 "nbformat_minor": 5
}
